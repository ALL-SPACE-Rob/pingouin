{
 "cells": [
  {
   "cell_type": "markdown",
   "metadata": {},
   "source": [
    "## Load a fake dataset: the INSOMNIA study\n",
    "\n",
    "Goal: evaluate the influence of a treatment on sleep duration in a control and insomnia group\n",
    "\n",
    "#### Mixed repeated measures design\n",
    "- Dependant variable (DV) = hours of sleep per night\n",
    "- Between-factor = two-levels (Insomnia / Control)\n",
    "- Within-factor = three levels (Pre, Post1, Post2)"
   ]
  },
  {
   "cell_type": "code",
   "execution_count": 1,
   "metadata": {},
   "outputs": [],
   "source": [
    "import pandas as pd\n",
    "# Change default display format of pandas\n",
    "pd.set_option('display.float_format', lambda x: '%.3f' % x)"
   ]
  },
  {
   "cell_type": "code",
   "execution_count": 2,
   "metadata": {},
   "outputs": [
    {
     "name": "stdout",
     "output_type": "stream",
     "text": [
      "     DV     Group Time\n",
      "0 5.682  Insomnia  Pre\n",
      "1 5.286  Insomnia  Pre\n",
      "2 4.890  Insomnia  Pre\n",
      "3 6.257  Insomnia  Pre\n",
      "4 4.615  Insomnia  Pre\n"
     ]
    }
   ],
   "source": [
    "df = pd.read_csv('sleep_dataset.csv')\n",
    "print(df.head())"
   ]
  },
  {
   "cell_type": "code",
   "execution_count": 3,
   "metadata": {},
   "outputs": [
    {
     "data": {
      "text/plain": [
       "<matplotlib.axes._subplots.AxesSubplot at 0x251c41bfdd8>"
      ]
     },
     "execution_count": 3,
     "metadata": {},
     "output_type": "execute_result"
    },
    {
     "data": {
      "image/png": "[encoded data removed]",
      "text/plain": [
       "<matplotlib.figure.Figure at 0x251c30de518>"
      ]
     },
     "metadata": {},
     "output_type": "display_data"
    }
   ],
   "source": [
    "%matplotlib inline\n",
    "import seaborn as sns\n",
    "sns.pointplot(x='Time', y='DV', hue='Group', data=df, dodge=True)"
   ]
  },
  {
   "cell_type": "markdown",
   "metadata": {},
   "source": [
    "## Post-hocs pairwise comparisons\n",
    "\n",
    "- Effect size type = cohen's d\n",
    "- Correction for multiple comparisons = False Discovery Rate (Benjamini–Hochberg procedure)\n",
    "\n",
    "### Within-factor"
   ]
  },
  {
   "cell_type": "code",
   "execution_count": 4,
   "metadata": {},
   "outputs": [
    {
     "name": "stdout",
     "output_type": "stream",
     "text": [
      "               A             B    Type  Paired  Alpha  T-val       Tail  \\\n",
      "0  Post-12months  Post-6months  within   1.000  0.050 -0.870  two-sided   \n",
      "1  Post-12months           Pre  within   1.000  0.050  4.665  two-sided   \n",
      "2   Post-6months           Pre  within   1.000  0.050  5.746  two-sided   \n",
      "\n",
      "   p-unc  p-corr p-adjust  reject  Eff_size Eff_type  \n",
      "0  0.389   0.389   fdr_bh       0    -0.204    cohen  \n",
      "1  0.000   0.000   fdr_bh       1     0.941    cohen  \n",
      "2  0.000   0.000   fdr_bh       1     1.145    cohen  \n"
     ]
    }
   ],
   "source": [
    "from pingouin import pairwise_ttests\n",
    "\n",
    "stats = pairwise_ttests(dv='DV', within='Time', between='Group',\n",
    "                        effects='within', data=df, alpha=.05,\n",
    "                        tail='two-sided', padjust='fdr_bh',\n",
    "                        effsize='cohen', return_desc=False)\n",
    "print(stats)"
   ]
  },
  {
   "cell_type": "markdown",
   "metadata": {},
   "source": [
    "### Between-factor"
   ]
  },
  {
   "cell_type": "code",
   "execution_count": 5,
   "metadata": {},
   "outputs": [
    {
     "name": "stdout",
     "output_type": "stream",
     "text": [
      "         A         B     Type  Paired  Alpha  T-val       Tail  p-unc  p-corr  \\\n",
      "0  Control  Insomnia  between   0.000  0.050  5.486  two-sided  0.000   0.000   \n",
      "\n",
      "  p-adjust  reject  Eff_size Eff_type  \n",
      "0   fdr_bh       1     1.007    cohen  \n"
     ]
    }
   ],
   "source": [
    "stats = pairwise_ttests(dv='DV', within='Time', between='Group',\n",
    "                        effects='between', data=df, alpha=.05,\n",
    "                        tail='two-sided', padjust='fdr_bh',\n",
    "                        effsize='cohen', return_desc=False)\n",
    "print(stats)"
   ]
  },
  {
   "cell_type": "markdown",
   "metadata": {},
   "source": [
    "### Interaction"
   ]
  },
  {
   "cell_type": "code",
   "execution_count": 6,
   "metadata": {},
   "outputs": [
    {
     "name": "stdout",
     "output_type": "stream",
     "text": [
      "            Time        A         B         Type  Paired  Alpha  T-val  \\\n",
      "0  Post-12months  Control  Insomnia  interaction   0.000  0.050  2.314   \n",
      "1   Post-6months  Control  Insomnia  interaction   0.000  0.050  1.643   \n",
      "2            Pre  Control  Insomnia  interaction   0.000  0.050  8.754   \n",
      "\n",
      "        Tail  p-unc  p-corr p-adjust  reject  Eff_size Eff_type  \n",
      "0  two-sided  0.026   0.039   fdr_bh       1     0.735    cohen  \n",
      "1  two-sided  0.109   0.109   fdr_bh       0     0.522    cohen  \n",
      "2  two-sided  0.000   0.000   fdr_bh       1     2.782    cohen  \n"
     ]
    }
   ],
   "source": [
    "stats = pairwise_ttests(dv='DV', within='Time', between='Group',\n",
    "                        effects='interaction', data=df, alpha=.05,\n",
    "                        tail='two-sided', padjust='fdr_bh',\n",
    "                        effsize='cohen', return_desc=False)\n",
    "print(stats)"
   ]
  },
  {
   "cell_type": "markdown",
   "metadata": {},
   "source": [
    "### All of the above\n",
    "\n",
    "We also set ***return_desc=True*** in order to get the mean and standard deviations in each comparisons"
   ]
  },
  {
   "cell_type": "code",
   "execution_count": 7,
   "metadata": {},
   "outputs": [
    {
     "name": "stdout",
     "output_type": "stream",
     "text": [
      "            Time              A             B  mean(A)  std(A)  mean(B)  \\\n",
      "0            NaN  Post-12months  Post-6months    7.671   1.077    7.882   \n",
      "1            NaN  Post-12months           Pre    7.671   1.077    6.512   \n",
      "2            NaN   Post-6months           Pre    7.882   1.005    6.512   \n",
      "3            NaN        Control      Insomnia    7.890   0.953    6.701   \n",
      "4  Post-12months        Control      Insomnia    8.010   0.992    7.258   \n",
      "5   Post-6months        Control      Insomnia    8.113   0.779    7.599   \n",
      "6            Pre        Control      Insomnia    7.548   1.015    5.246   \n",
      "\n",
      "   std(B)         Type  Paired  Alpha  T-val       Tail  p-unc  p-corr  \\\n",
      "0   1.005       within   1.000  0.050 -0.870  two-sided  0.389   0.389   \n",
      "1   1.418       within   1.000  0.050  4.665  two-sided  0.000   0.000   \n",
      "2   1.418       within   1.000  0.050  5.746  two-sided  0.000   0.000   \n",
      "3   1.412      between   0.000  0.050  5.486  two-sided  0.000   0.000   \n",
      "4   1.057  interaction   0.000  0.050  2.314  two-sided  0.026   0.037   \n",
      "5   1.189  interaction   0.000  0.050  1.643  two-sided  0.109   0.127   \n",
      "6   0.507  interaction   0.000  0.050  8.754  two-sided  0.000   0.000   \n",
      "\n",
      "  p-adjust  reject  Eff_size Eff_type  \n",
      "0   fdr_bh       0    -0.202   hedges  \n",
      "1   fdr_bh       1     0.932   hedges  \n",
      "2   fdr_bh       1     1.133   hedges  \n",
      "3   fdr_bh       1     1.000   hedges  \n",
      "4   fdr_bh       1     0.721   hedges  \n",
      "5   fdr_bh       0     0.512   hedges  \n",
      "6   fdr_bh       1     2.727   hedges  \n"
     ]
    }
   ],
   "source": [
    "stats = pairwise_ttests(dv='DV', within='Time', between='Group',\n",
    "                        effects='all', data=df, alpha=.05,\n",
    "                        tail='two-sided', padjust='fdr_bh',\n",
    "                        effsize='hedges', return_desc=True)\n",
    "print(stats)"
   ]
  }
 ],
 "metadata": {
  "kernelspec": {
   "display_name": "Python 3",
   "language": "python",
   "name": "python3"
  },
  "language_info": {
   "codemirror_mode": {
    "name": "ipython",
    "version": 3
   },
   "file_extension": ".py",
   "mimetype": "text/x-python",
   "name": "python",
   "nbconvert_exporter": "python",
   "pygments_lexer": "ipython3",
   "version": "3.6.4"
  }
 },
 "nbformat": 4,
 "nbformat_minor": 2
}
