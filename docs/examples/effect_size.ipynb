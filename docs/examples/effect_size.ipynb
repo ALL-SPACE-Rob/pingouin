{
 "cells": [
  {
   "cell_type": "markdown",
   "metadata": {},
   "source": [
    "# Computing effect size\n",
    "\n",
    "[Lakens et al. 2013](https://www.frontiersin.org/articles/10.3389/fpsyg.2013.00863/full)\n",
    "> *Effect sizes are the **most important outcome** of empirical studies. Most articles on effect sizes highlight their importance to communicate the practical significance of results. For scientists themselves, effect sizes are most useful because they facilitate cumulative science. Effect sizes can be used to determine the sample size for follow-up studies, or examining effects across studies.*"
   ]
  },
  {
   "cell_type": "markdown",
   "metadata": {},
   "source": [
    "## Dataset\n",
    "We'll start by generating a fake demographic dataset representing the heights of 1000 individuals in two countries: France and the UK."
   ]
  },
  {
   "cell_type": "code",
   "execution_count": 1,
   "metadata": {},
   "outputs": [],
   "source": [
    "import numpy as np\n",
    "import pandas as pd\n",
    "import seaborn as sns\n",
    "from scipy.stats import ttest_ind\n",
    "\n",
    "np.random.seed(123)\n",
    "nx, ny = 1000, 1000\n",
    "x = np.random.normal(loc=174, size=nx) # mean = 174 cm, variance = 1\n",
    "y = np.random.normal(loc=175, size=ny) # mean = 174 cm, variance = 1\n",
    "\n",
    "# Now let's assemble these two variables in a single pandas Dataframe\n",
    "group = np.r_[np.repeat(['France'], nx), np.repeat(['UK'], ny)]\n",
    "df = pd.DataFrame({'DV': np.r_[x, y], 'Group': group })"
   ]
  },
  {
   "cell_type": "markdown",
   "metadata": {},
   "source": [
    "Optionally, we can visualize the distribution of our two datasets using [seaborn](https://seaborn.pydata.org/)"
   ]
  },
  {
   "cell_type": "code",
   "execution_count": 2,
   "metadata": {},
   "outputs": [
    {
     "data": {
      "text/plain": [
       "<matplotlib.axes._subplots.AxesSubplot at 0x1bc98291470>"
      ]
     },
     "execution_count": 2,
     "metadata": {},
     "output_type": "execute_result"
    },
    {
     "data": {
      "image/png": "[encoded data removed]",
      "text/plain": [
       "<matplotlib.figure.Figure at 0x1bc93c305f8>"
      ]
     },
     "metadata": {},
     "output_type": "display_data"
    }
   ],
   "source": [
    "%matplotlib inline\n",
    "import seaborn as sns\n",
    "sns.kdeplot(x, shade=True, label='France')\n",
    "sns.kdeplot(y, shade=True, label='UK')"
   ]
  },
  {
   "cell_type": "markdown",
   "metadata": {},
   "source": [
    "## EFFECT SIZE COMPUTATION\n",
    "\n",
    "#### The effect sizes currently supported are:\n",
    "\n",
    "- Cohen's *d* for independant measures\n",
    "- Cohen's *d-average* for repeated measures\n",
    "- Hedges' *g* (better than Cohen's d for small sample size)\n",
    "- Glass delta (more appropriate when the two measures have different variance, e.g. Control vs Patient group)\n",
    "- Eta-square\n",
    "- Odds-ratio\n",
    "- Area Under the Curve (AUC)"
   ]
  },
  {
   "cell_type": "code",
   "execution_count": 3,
   "metadata": {},
   "outputs": [
    {
     "name": "stdout",
     "output_type": "stream",
     "text": [
      "hedges : -1.069\n",
      "hedges : -1.069\n"
     ]
    }
   ],
   "source": [
    "from pingouin.effsize import *\n",
    "\n",
    "eftype = 'hedges' # 'cohen', 'hedges', 'glass', 'eta-square', 'odds-ratio', 'AUC'\n",
    "\n",
    "# 1 - using a pandas DataFrame\n",
    "ef = compute_effsize(dv='DV', group='Group', data=df, eftype=eftype)\n",
    "print(eftype, ': %.3f' % ef)\n",
    "\n",
    "# 2 - using two NumPy arrays\n",
    "ef = compute_effsize(x=x, y=y, eftype=eftype)\n",
    "print(eftype, ': %.3f' % ef)"
   ]
  },
  {
   "cell_type": "markdown",
   "metadata": {},
   "source": [
    "### Using a T-value\n",
    "Alternatively, if you don't have the data, effect size can be computed from a T-value and sample size."
   ]
  },
  {
   "cell_type": "code",
   "execution_count": 4,
   "metadata": {},
   "outputs": [
    {
     "name": "stdout",
     "output_type": "stream",
     "text": [
      "hedges (from T - nx + ny): -1.069\n",
      "cohen (from T - only N): -1.069\n"
     ]
    }
   ],
   "source": [
    "# 3 - using a T-value when nx and ny are known\n",
    "T, _ = ttest_ind(x, y)\n",
    "ef = compute_effsize_from_t(T, nx=len(x), ny=len(y), eftype=eftype)\n",
    "print(eftype, '(from T - nx + ny): %.3f' % ef)\n",
    "\n",
    "# 4 - using a T-value when only total sample size is known\n",
    "T, _ = ttest_ind(x, y)\n",
    "ef = compute_effsize_from_t(T, N=len(x) + len(y), eftype='cohen')\n",
    "print('cohen (from T - only N): %.3f' % ef)"
   ]
  }
 ],
 "metadata": {
  "kernelspec": {
   "display_name": "Python 3",
   "language": "python",
   "name": "python3"
  },
  "language_info": {
   "codemirror_mode": {
    "name": "ipython",
    "version": 3
   },
   "file_extension": ".py",
   "mimetype": "text/x-python",
   "name": "python",
   "nbconvert_exporter": "python",
   "pygments_lexer": "ipython3",
   "version": "3.6.4"
  }
 },
 "nbformat": 4,
 "nbformat_minor": 2
}
