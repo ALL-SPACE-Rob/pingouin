{
 "cells": [
  {
   "cell_type": "code",
   "execution_count": null,
   "metadata": {},
   "outputs": [],
   "source": [
    "import numpy as np\n",
    "import pandas as pd\n",
    "from scipy.stats import ttest_ind\n",
    "from pingouin.effsize import *"
   ]
  },
  {
   "cell_type": "code",
   "execution_count": null,
   "metadata": {},
   "outputs": [],
   "source": [
    "# Generate a fake dataset: heights in countries x and y\n",
    "np.random.seed(123)\n",
    "nx, ny = 100, 100\n",
    "x = np.random.normal(loc=174, scale=1.0, size=nx)\n",
    "y = np.random.normal(loc=175, scale=0.9,  size=ny)\n",
    "group = np.r_[np.repeat(['France'], nx), np.repeat(['UK'], ny)]\n",
    "df = pd.DataFrame({'DV': np.r_[x, y], 'Group': group })"
   ]
  },
  {
   "cell_type": "code",
   "execution_count": null,
   "metadata": {},
   "outputs": [],
   "source": [
    "# EFFECT SIZE COMPUTATION\n",
    "# -----------------------\n",
    "# Define the output eftype\n",
    "# Possible values are 'cohen', 'hedges', 'r', 'eta-square', 'odds-ratio',\n",
    "# 'glass', 'AUC'\n",
    "eftype = 'hedges'\n",
    "\n",
    "# 1 - using Pandas\n",
    "ef = compute_effsize(dv='DV', group='Group', data=df, eftype=eftype)\n",
    "print(eftype, ': %.3f' % ef)\n",
    "\n",
    "# 2 - using Numpy\n",
    "ef = compute_effsize(x=x, y=y, eftype=eftype)\n",
    "print(eftype, ': %.3f' % ef)\n",
    "\n",
    "# 3 - using a T-value when nx and ny are known\n",
    "T, _ = ttest_ind(x, y)\n",
    "ef = compute_effsize_from_T(T, nx=len(x), ny=len(y), eftype=eftype)\n",
    "print(eftype, '(from T - nx + ny): %.3f' % ef)\n",
    "\n",
    "# 4 - using a T-value when only total sample size is known\n",
    "T, _ = ttest_ind(x, y)\n",
    "ef = compute_effsize_from_T(T, N=len(x) + len(y), eftype='cohen')\n",
    "print('cohen (from T - only N): %.3f' % ef)\n"
   ]
  }
 ],
 "metadata": {
  "kernelspec": {
   "display_name": "Python 3",
   "language": "python",
   "name": "python3"
  },
  "language_info": {
   "codemirror_mode": {
    "name": "ipython",
    "version": 3
   },
   "file_extension": ".py",
   "mimetype": "text/x-python",
   "name": "python",
   "nbconvert_exporter": "python",
   "pygments_lexer": "ipython3",
   "version": "3.6.4"
  }
 },
 "nbformat": 4,
 "nbformat_minor": 2
}
