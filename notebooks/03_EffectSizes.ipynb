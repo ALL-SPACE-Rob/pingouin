{
 "cells": [
  {
   "cell_type": "markdown",
   "metadata": {},
   "source": [
    "# Effect sizes\n",
    "\n",
    "Effect sizes are a way of quantifying the magnitude of the difference between two groups. They are useful to determine the sample size for follow-up studies, or examining effects across studies. In this tutorial, we will see how to compute effect sizes using Pingouin.\n",
    "\n",
    "The effect sizes supported in Pingouin are:\n",
    "\n",
    "-  Cohen's d for independent measures\n",
    "-  Cohen's d-average for repeated measures\n",
    "-  Hedges' g (corrected Cohen d, better for small sample size)\n",
    "-  Glass delta (more appropriate when the two measures have different variance, e.g. controls vs patients)\n",
    "-  Eta-square\n",
    "-  Odds-ratio\n",
    "-  Area Under the Curve (AUC)\n",
    "\n",
    "## Example\n",
    "\n",
    "We'll start by generating a fake demographic dataset representing the heights of 500 individuals in two countries."
   ]
  },
  {
   "cell_type": "code",
   "execution_count": 1,
   "metadata": {},
   "outputs": [],
   "source": [
    "import numpy as np\n",
    "import pandas as pd\n",
    "import seaborn as sns\n",
    "from scipy.stats import ttest_ind\n",
    "\n",
    "np.random.seed(123)\n",
    "nx, ny = 500, 500\n",
    "x = np.random.normal(loc=174, size=nx) # mean = 174 cm, variance = 1\n",
    "y = np.random.normal(loc=175, size=ny) # mean = 175 cm, variance = 1"
   ]
  },
  {
   "cell_type": "markdown",
   "metadata": {},
   "source": [
    "Let's visualize the distribution of our two datasets using [seaborn](https://seaborn.pydata.org/)"
   ]
  },
  {
   "cell_type": "code",
   "execution_count": 2,
   "metadata": {},
   "outputs": [
    {
     "data": {
      "text/plain": [
       "<matplotlib.axes._subplots.AxesSubplot at 0x204f52ecc88>"
      ]
     },
     "execution_count": 2,
     "metadata": {},
     "output_type": "execute_result"
    },
    {
     "data": {
      "image/png": "[encoded data removed]",
      "text/plain": [
       "<Figure size 432x288 with 1 Axes>"
      ]
     },
     "metadata": {},
     "output_type": "display_data"
    }
   ],
   "source": [
    "sns.distplot(x, kde=True, label='France')\n",
    "sns.distplot(y, kde=True, label='UK')"
   ]
  },
  {
   "cell_type": "markdown",
   "metadata": {},
   "source": [
    "Now we can compute the effect size using the [compute_effsize](https://raphaelvallat.github.io/pingouin/build/html/generated/pingouin.compute_effsize.html#pingouin.compute_effsize) function:"
   ]
  },
  {
   "cell_type": "code",
   "execution_count": 3,
   "metadata": {},
   "outputs": [
    {
     "name": "stdout",
     "output_type": "stream",
     "text": [
      "hedges : -0.996\n"
     ]
    }
   ],
   "source": [
    "from pingouin import compute_effsize\n",
    "eftype = 'hedges' # 'cohen', 'hedges', 'glass', 'eta-square', 'odds-ratio', 'AUC'\n",
    "ef = compute_effsize(x=x, y=y, eftype=eftype, paired=False)\n",
    "print(eftype, ': %.3f' % ef)"
   ]
  },
  {
   "cell_type": "markdown",
   "metadata": {},
   "source": [
    "### Using a T-value\n",
    "If you don't have the raw data,  effect size can be computed from a T-value and sample size:"
   ]
  },
  {
   "cell_type": "code",
   "execution_count": 4,
   "metadata": {},
   "outputs": [
    {
     "name": "stdout",
     "output_type": "stream",
     "text": [
      "hedges (from T - nx + ny): -0.996\n",
      "cohen (from T - only N): -0.996\n"
     ]
    }
   ],
   "source": [
    "from pingouin import compute_effsize_from_t\n",
    "# using a T-value when nx and ny are known\n",
    "tval, _ = ttest_ind(x, y)\n",
    "ef = compute_effsize_from_t(tval, nx=len(x), ny=len(y), eftype=eftype)\n",
    "print(eftype, '(from T - nx + ny): %.3f' % ef)\n",
    "\n",
    "# using a T-value when only total sample size is known\n",
    "tval, _ = ttest_ind(x, y)\n",
    "ef = compute_effsize_from_t(tval, N=len(x) + len(y), eftype='cohen')\n",
    "print('cohen (from T - only N): %.3f' % ef)"
   ]
  },
  {
   "cell_type": "markdown",
   "metadata": {},
   "source": [
    "## Confidence intervals\n",
    "Parametric and bootstrapped confidence intervals of effect sizes and correlation coefficients can be computed using the [compute_esci](https://raphaelvallat.github.io/pingouin/build/html/generated/pingouin.compute_esci.html#pingouin.compute_esci) and [compute_bootci](https://raphaelvallat.github.io/pingouin/build/html/generated/pingouin.compute_bootci.html#pingouin.compute_bootci) functions, respectively. The former method only requires the original effect sizes and sample sizes, while the latter method requires the raw values."
   ]
  },
  {
   "cell_type": "code",
   "execution_count": 5,
   "metadata": {},
   "outputs": [
    {
     "name": "stdout",
     "output_type": "stream",
     "text": [
      "Cohen d:\t-0.996\n",
      "Parametric:\t [-1.13 -0.86]\n",
      "Bootstrapped:\t [-1.13 -0.87]\n"
     ]
    }
   ],
   "source": [
    "from pingouin import compute_esci, compute_bootci\n",
    "\n",
    "# Cohen's d\n",
    "d = compute_effsize(x, y, eftype='cohen')\n",
    "print('Cohen d:\\t%.3f' % d)\n",
    "\n",
    "# Parametric 95% confidence intervals of Cohen's d effect size\n",
    "print('Parametric:\\t', compute_esci(stat=d, nx=nx, ny=ny, confidence=0.95, eftype='cohen'))\n",
    "\n",
    "# Bootstrapped 95% confidence intervals of Cohen's d effect size\n",
    "print('Bootstrapped:\\t', compute_bootci(x=x, y=y, func='cohen', confidence=0.95, n_boot=2000, seed=123))"
   ]
  },
  {
   "cell_type": "markdown",
   "metadata": {},
   "source": [
    "## Converting effect sizes\n",
    "It is possible to convert between several types of effect sizes using the [convert_effsize](https://raphaelvallat.github.io/pingouin/build/html/generated/pingouin.convert_effsize.html#pingouin.convert_effsize) function:"
   ]
  },
  {
   "cell_type": "code",
   "execution_count": 6,
   "metadata": {},
   "outputs": [
    {
     "name": "stdout",
     "output_type": "stream",
     "text": [
      "Eta:\t0.199\n",
      "Hedges:\t-0.996\n"
     ]
    }
   ],
   "source": [
    "from pingouin import convert_effsize\n",
    "# Convert from Cohen's d to eta-square:\n",
    "eta = convert_effsize(ef=d, input_type='cohen', output_type='eta-square')\n",
    "print('Eta:\\t%.3f' % eta)\n",
    "\n",
    "# Convert from Cohen's d to hedges (requires sample size):\n",
    "hedges = convert_effsize(ef=d, input_type='cohen', output_type='hedges', nx=500, ny=500)\n",
    "print('Hedges:\\t%.3f' % hedges)"
   ]
  },
  {
   "cell_type": "code",
   "execution_count": null,
   "metadata": {},
   "outputs": [],
   "source": []
  }
 ],
 "metadata": {
  "kernelspec": {
   "display_name": "Python 3",
   "language": "python",
   "name": "python3"
  },
  "language_info": {
   "codemirror_mode": {
    "name": "ipython",
    "version": 3
   },
   "file_extension": ".py",
   "mimetype": "text/x-python",
   "name": "python",
   "nbconvert_exporter": "python",
   "pygments_lexer": "ipython3",
   "version": "3.6.5"
  }
 },
 "nbformat": 4,
 "nbformat_minor": 2
}
