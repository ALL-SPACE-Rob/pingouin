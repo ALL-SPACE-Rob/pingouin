{
 "cells": [
  {
   "cell_type": "markdown",
   "metadata": {},
   "source": [
    "# Correlations"
   ]
  },
  {
   "cell_type": "markdown",
   "metadata": {},
   "source": [
    "## Pairwise correlations"
   ]
  },
  {
   "cell_type": "markdown",
   "metadata": {},
   "source": [
    "In this notebook we will see how to compute pairwise correlations coefficients across columns of a pandas DataFrame using the [pairwise_corr](https://raphaelvallat.github.io/pingouin/build/html/generated/pingouin.pairwise_corr.html#pingouin.pairwise_corr) function.\n",
    "\n",
    "We'll start by generating a pandas dataframe with three continuous variables, each in a separate column."
   ]
  },
  {
   "cell_type": "code",
   "execution_count": 1,
   "metadata": {},
   "outputs": [
    {
     "data": {
      "text/html": [
       "<div>\n",
       "<style scoped>\n",
       "    .dataframe tbody tr th:only-of-type {\n",
       "        vertical-align: middle;\n",
       "    }\n",
       "\n",
       "    .dataframe tbody tr th {\n",
       "        vertical-align: top;\n",
       "    }\n",
       "\n",
       "    .dataframe thead th {\n",
       "        text-align: right;\n",
       "    }\n",
       "</style>\n",
       "<table border=\"1\" class=\"dataframe\">\n",
       "  <thead>\n",
       "    <tr style=\"text-align: right;\">\n",
       "      <th></th>\n",
       "      <th>X</th>\n",
       "      <th>Y</th>\n",
       "      <th>Z</th>\n",
       "    </tr>\n",
       "  </thead>\n",
       "  <tbody>\n",
       "    <tr>\n",
       "      <th>0</th>\n",
       "      <td>4.524991</td>\n",
       "      <td>7.417044</td>\n",
       "      <td>-0.805367</td>\n",
       "    </tr>\n",
       "    <tr>\n",
       "      <th>1</th>\n",
       "      <td>4.420532</td>\n",
       "      <td>5.073261</td>\n",
       "      <td>-1.727669</td>\n",
       "    </tr>\n",
       "    <tr>\n",
       "      <th>2</th>\n",
       "      <td>3.778971</td>\n",
       "      <td>7.256061</td>\n",
       "      <td>-0.390900</td>\n",
       "    </tr>\n",
       "    <tr>\n",
       "      <th>3</th>\n",
       "      <td>6.362303</td>\n",
       "      <td>7.978672</td>\n",
       "      <td>0.573806</td>\n",
       "    </tr>\n",
       "    <tr>\n",
       "      <th>4</th>\n",
       "      <td>3.255330</td>\n",
       "      <td>4.480094</td>\n",
       "      <td>0.338589</td>\n",
       "    </tr>\n",
       "  </tbody>\n",
       "</table>\n",
       "</div>"
      ],
      "text/plain": [
       "          X         Y         Z\n",
       "0  4.524991  7.417044 -0.805367\n",
       "1  4.420532  5.073261 -1.727669\n",
       "2  3.778971  7.256061 -0.390900\n",
       "3  6.362303  7.978672  0.573806\n",
       "4  3.255330  4.480094  0.338589"
      ]
     },
     "execution_count": 1,
     "metadata": {},
     "output_type": "execute_result"
    }
   ],
   "source": [
    "import numpy as np\n",
    "import pandas as pd\n",
    "np.random.seed(123)\n",
    "n = 20\n",
    "mean, cov = [4, 6], [(1, .6), (.6, 1)]\n",
    "# x and y are two correlated random variables\n",
    "x, y = np.random.multivariate_normal(mean, cov, n).T\n",
    "z = np.random.normal(size=n)\n",
    "df = pd.DataFrame({'X': x, 'Y': y, 'Z': z})\n",
    "df.head()"
   ]
  },
  {
   "cell_type": "markdown",
   "metadata": {},
   "source": [
    "Let's compute the pairwise correlations between all the columns of the DataFrame:\n",
    "\n",
    "By default, the function returns the two-sided Pearson's correlation coefficients. This can be adjusted using the `tail` and `method` arguments. In addition, the output dataframe contains:\n",
    "\n",
    "1. the parametric 95% confidence intervals of the r value (`CI95%`)\n",
    "2. the R<sup>2</sup> (= coefficient of determination, `r2`)\n",
    "3. the adjusted R<sup>2</sup> (`adj_r2`)\n",
    "4. the standardized (Z-transformed) correlation coefficients (`z`)\n",
    "5. the uncorrected p-values (`p-unc`)\n",
    "6. the Bayes Factor for the alternative hypothesis (`BF10`)\n",
    "\n",
    "In the example below, we can see that there is a strong correlation between variables `X` and `Y`, as indicated by the correlation coefficient (0.583), the p-value (.007) and the Bayes Factor (6.27, meaning that the alternative hypothesis is ~6 times more likely than the null hypothesis given the data)."
   ]
  },
  {
   "cell_type": "code",
   "execution_count": 2,
   "metadata": {},
   "outputs": [
    {
     "data": {
      "text/html": [
       "<div>\n",
       "<style scoped>\n",
       "    .dataframe tbody tr th:only-of-type {\n",
       "        vertical-align: middle;\n",
       "    }\n",
       "\n",
       "    .dataframe tbody tr th {\n",
       "        vertical-align: top;\n",
       "    }\n",
       "\n",
       "    .dataframe thead th {\n",
       "        text-align: right;\n",
       "    }\n",
       "</style>\n",
       "<table border=\"1\" class=\"dataframe\">\n",
       "  <thead>\n",
       "    <tr style=\"text-align: right;\">\n",
       "      <th></th>\n",
       "      <th>X</th>\n",
       "      <th>Y</th>\n",
       "      <th>method</th>\n",
       "      <th>tail</th>\n",
       "      <th>r</th>\n",
       "      <th>CI95%</th>\n",
       "      <th>r2</th>\n",
       "      <th>adj_r2</th>\n",
       "      <th>z</th>\n",
       "      <th>p-unc</th>\n",
       "      <th>BF10</th>\n",
       "    </tr>\n",
       "  </thead>\n",
       "  <tbody>\n",
       "    <tr>\n",
       "      <th>0</th>\n",
       "      <td>X</td>\n",
       "      <td>Y</td>\n",
       "      <td>pearson</td>\n",
       "      <td>two-sided</td>\n",
       "      <td>0.583</td>\n",
       "      <td>[0.19, 0.82]</td>\n",
       "      <td>0.340</td>\n",
       "      <td>0.262</td>\n",
       "      <td>0.667</td>\n",
       "      <td>0.007004</td>\n",
       "      <td>6.270</td>\n",
       "    </tr>\n",
       "    <tr>\n",
       "      <th>1</th>\n",
       "      <td>X</td>\n",
       "      <td>Z</td>\n",
       "      <td>pearson</td>\n",
       "      <td>two-sided</td>\n",
       "      <td>-0.083</td>\n",
       "      <td>[-0.51, 0.37]</td>\n",
       "      <td>0.007</td>\n",
       "      <td>-0.110</td>\n",
       "      <td>-0.083</td>\n",
       "      <td>0.729457</td>\n",
       "      <td>0.181</td>\n",
       "    </tr>\n",
       "    <tr>\n",
       "      <th>2</th>\n",
       "      <td>Y</td>\n",
       "      <td>Z</td>\n",
       "      <td>pearson</td>\n",
       "      <td>two-sided</td>\n",
       "      <td>-0.197</td>\n",
       "      <td>[-0.59, 0.27]</td>\n",
       "      <td>0.039</td>\n",
       "      <td>-0.074</td>\n",
       "      <td>-0.200</td>\n",
       "      <td>0.404140</td>\n",
       "      <td>0.241</td>\n",
       "    </tr>\n",
       "  </tbody>\n",
       "</table>\n",
       "</div>"
      ],
      "text/plain": [
       "   X  Y   method       tail      r          CI95%     r2  adj_r2      z  \\\n",
       "0  X  Y  pearson  two-sided  0.583   [0.19, 0.82]  0.340   0.262  0.667   \n",
       "1  X  Z  pearson  two-sided -0.083  [-0.51, 0.37]  0.007  -0.110 -0.083   \n",
       "2  Y  Z  pearson  two-sided -0.197  [-0.59, 0.27]  0.039  -0.074 -0.200   \n",
       "\n",
       "      p-unc   BF10  \n",
       "0  0.007004  6.270  \n",
       "1  0.729457  0.181  \n",
       "2  0.404140  0.241  "
      ]
     },
     "execution_count": 2,
     "metadata": {},
     "output_type": "execute_result"
    }
   ],
   "source": [
    "from pingouin import pairwise_corr\n",
    "pairwise_corr(df)"
   ]
  },
  {
   "cell_type": "markdown",
   "metadata": {},
   "source": [
    "### Non-parametric correlations\n",
    "If your data do not follow a normal distribution, the software will display a warning message suggesting you to use a non-parametric method such as the Spearman rank-correlation.\n",
    "\n",
    "In the example below, we compute the one-sided Spearman pairwise correlations between a subset of columns. Note that the Bayes Factor is only computed when using the Pearson method and is therefore not present in the table above."
   ]
  },
  {
   "cell_type": "code",
   "execution_count": 3,
   "metadata": {},
   "outputs": [
    {
     "data": {
      "text/html": [
       "<div>\n",
       "<style scoped>\n",
       "    .dataframe tbody tr th:only-of-type {\n",
       "        vertical-align: middle;\n",
       "    }\n",
       "\n",
       "    .dataframe tbody tr th {\n",
       "        vertical-align: top;\n",
       "    }\n",
       "\n",
       "    .dataframe thead th {\n",
       "        text-align: right;\n",
       "    }\n",
       "</style>\n",
       "<table border=\"1\" class=\"dataframe\">\n",
       "  <thead>\n",
       "    <tr style=\"text-align: right;\">\n",
       "      <th></th>\n",
       "      <th>X</th>\n",
       "      <th>Y</th>\n",
       "      <th>method</th>\n",
       "      <th>tail</th>\n",
       "      <th>r</th>\n",
       "      <th>CI95%</th>\n",
       "      <th>r2</th>\n",
       "      <th>adj_r2</th>\n",
       "      <th>z</th>\n",
       "      <th>p-unc</th>\n",
       "    </tr>\n",
       "  </thead>\n",
       "  <tbody>\n",
       "    <tr>\n",
       "      <th>0</th>\n",
       "      <td>X</td>\n",
       "      <td>Y</td>\n",
       "      <td>spearman</td>\n",
       "      <td>one-sided</td>\n",
       "      <td>0.537</td>\n",
       "      <td>[0.12, 0.79]</td>\n",
       "      <td>0.288</td>\n",
       "      <td>0.204</td>\n",
       "      <td>0.6</td>\n",
       "      <td>0.007332</td>\n",
       "    </tr>\n",
       "  </tbody>\n",
       "</table>\n",
       "</div>"
      ],
      "text/plain": [
       "   X  Y    method       tail      r         CI95%     r2  adj_r2    z  \\\n",
       "0  X  Y  spearman  one-sided  0.537  [0.12, 0.79]  0.288   0.204  0.6   \n",
       "\n",
       "      p-unc  \n",
       "0  0.007332  "
      ]
     },
     "execution_count": 3,
     "metadata": {},
     "output_type": "execute_result"
    }
   ],
   "source": [
    "pairwise_corr(data=df, columns=['X', 'Y'], tail='one-sided', method='spearman')"
   ]
  },
  {
   "cell_type": "markdown",
   "metadata": {},
   "source": [
    "### Robust correlations\n",
    "If you believe that your dataset contains outliers, you can use a robust correlation method. There are currently three robust correlation methods implemented in Pingouin, namely the percentage bend correlation ([Wilcox 1994](https://link.springer.com/article/10.1007/BF02294395)), the Shepherd's pi correlation ([Schwarzkopf et al. 2012](https://www.ncbi.nlm.nih.gov/pmc/articles/PMC3397314/)) and the skipped correlation ([Rousselet and Pernet 2012](https://www.frontiersin.org/articles/10.3389/fnhum.2012.00119/full)). \n",
    "\n",
    "While the former method is particularly well-suited for univariate outlier (e.g. present in only one variable), the two latter methods work well with multivariate outliers. Note that the skipped correlation requires the scikit-learn package. Learn more on the documentation of the [pairwise_corr](https://raphaelvallat.github.io/pingouin/build/html/generated/pingouin.pairwise_corr.html#pingouin.pairwise_corr) function."
   ]
  },
  {
   "cell_type": "code",
   "execution_count": 4,
   "metadata": {},
   "outputs": [
    {
     "data": {
      "text/html": [
       "<div>\n",
       "<style scoped>\n",
       "    .dataframe tbody tr th:only-of-type {\n",
       "        vertical-align: middle;\n",
       "    }\n",
       "\n",
       "    .dataframe tbody tr th {\n",
       "        vertical-align: top;\n",
       "    }\n",
       "\n",
       "    .dataframe thead th {\n",
       "        text-align: right;\n",
       "    }\n",
       "</style>\n",
       "<table border=\"1\" class=\"dataframe\">\n",
       "  <thead>\n",
       "    <tr style=\"text-align: right;\">\n",
       "      <th></th>\n",
       "      <th>X</th>\n",
       "      <th>Y</th>\n",
       "      <th>method</th>\n",
       "      <th>tail</th>\n",
       "      <th>r</th>\n",
       "      <th>CI95%</th>\n",
       "      <th>r2</th>\n",
       "      <th>adj_r2</th>\n",
       "      <th>z</th>\n",
       "      <th>p-unc</th>\n",
       "    </tr>\n",
       "  </thead>\n",
       "  <tbody>\n",
       "    <tr>\n",
       "      <th>0</th>\n",
       "      <td>X</td>\n",
       "      <td>Y</td>\n",
       "      <td>percbend</td>\n",
       "      <td>two-sided</td>\n",
       "      <td>0.56</td>\n",
       "      <td>[0.16, 0.8]</td>\n",
       "      <td>0.313</td>\n",
       "      <td>0.232</td>\n",
       "      <td>0.633</td>\n",
       "      <td>0.01031</td>\n",
       "    </tr>\n",
       "  </tbody>\n",
       "</table>\n",
       "</div>"
      ],
      "text/plain": [
       "   X  Y    method       tail     r        CI95%     r2  adj_r2      z    p-unc\n",
       "0  X  Y  percbend  two-sided  0.56  [0.16, 0.8]  0.313   0.232  0.633  0.01031"
      ]
     },
     "execution_count": 4,
     "metadata": {},
     "output_type": "execute_result"
    }
   ],
   "source": [
    "# Introduce two outliers in variable X\n",
    "df.loc[[5, 12], 'X'] = 18\n",
    "\n",
    "# Percentage bend correlation\n",
    "pairwise_corr(data=df, columns=['X', 'Y'], method='percbend')"
   ]
  },
  {
   "cell_type": "code",
   "execution_count": 5,
   "metadata": {},
   "outputs": [
    {
     "data": {
      "text/html": [
       "<div>\n",
       "<style scoped>\n",
       "    .dataframe tbody tr th:only-of-type {\n",
       "        vertical-align: middle;\n",
       "    }\n",
       "\n",
       "    .dataframe tbody tr th {\n",
       "        vertical-align: top;\n",
       "    }\n",
       "\n",
       "    .dataframe thead th {\n",
       "        text-align: right;\n",
       "    }\n",
       "</style>\n",
       "<table border=\"1\" class=\"dataframe\">\n",
       "  <thead>\n",
       "    <tr style=\"text-align: right;\">\n",
       "      <th></th>\n",
       "      <th>X</th>\n",
       "      <th>Y</th>\n",
       "      <th>method</th>\n",
       "      <th>tail</th>\n",
       "      <th>r</th>\n",
       "      <th>CI95%</th>\n",
       "      <th>r2</th>\n",
       "      <th>adj_r2</th>\n",
       "      <th>z</th>\n",
       "      <th>p-unc</th>\n",
       "    </tr>\n",
       "  </thead>\n",
       "  <tbody>\n",
       "    <tr>\n",
       "      <th>0</th>\n",
       "      <td>X</td>\n",
       "      <td>Y</td>\n",
       "      <td>shepherd</td>\n",
       "      <td>two-sided</td>\n",
       "      <td>0.507</td>\n",
       "      <td>[0.08, 0.78]</td>\n",
       "      <td>0.257</td>\n",
       "      <td>0.169</td>\n",
       "      <td>0.559</td>\n",
       "      <td>0.031873</td>\n",
       "    </tr>\n",
       "  </tbody>\n",
       "</table>\n",
       "</div>"
      ],
      "text/plain": [
       "   X  Y    method       tail      r         CI95%     r2  adj_r2      z  \\\n",
       "0  X  Y  shepherd  two-sided  0.507  [0.08, 0.78]  0.257   0.169  0.559   \n",
       "\n",
       "      p-unc  \n",
       "0  0.031873  "
      ]
     },
     "execution_count": 5,
     "metadata": {},
     "output_type": "execute_result"
    }
   ],
   "source": [
    "# Shepherd's correlation\n",
    "pairwise_corr(data=df, columns=['X', 'Y'], method='shepherd')"
   ]
  },
  {
   "cell_type": "markdown",
   "metadata": {},
   "source": [
    "### Correction for multiple comparisons\n",
    "Finally, if you are computing a large number of correlation coefficients, you might want to correct the p-values for multiple comparisons. This can be done with `padjust` argument:"
   ]
  },
  {
   "cell_type": "code",
   "execution_count": 6,
   "metadata": {},
   "outputs": [
    {
     "data": {
      "text/html": [
       "<div>\n",
       "<style scoped>\n",
       "    .dataframe tbody tr th:only-of-type {\n",
       "        vertical-align: middle;\n",
       "    }\n",
       "\n",
       "    .dataframe tbody tr th {\n",
       "        vertical-align: top;\n",
       "    }\n",
       "\n",
       "    .dataframe thead th {\n",
       "        text-align: right;\n",
       "    }\n",
       "</style>\n",
       "<table border=\"1\" class=\"dataframe\">\n",
       "  <thead>\n",
       "    <tr style=\"text-align: right;\">\n",
       "      <th></th>\n",
       "      <th>X</th>\n",
       "      <th>Y</th>\n",
       "      <th>method</th>\n",
       "      <th>tail</th>\n",
       "      <th>r</th>\n",
       "      <th>CI95%</th>\n",
       "      <th>r2</th>\n",
       "      <th>adj_r2</th>\n",
       "      <th>z</th>\n",
       "      <th>p-unc</th>\n",
       "      <th>p-corr</th>\n",
       "      <th>p-adjust</th>\n",
       "    </tr>\n",
       "  </thead>\n",
       "  <tbody>\n",
       "    <tr>\n",
       "      <th>0</th>\n",
       "      <td>X</td>\n",
       "      <td>Y</td>\n",
       "      <td>spearman</td>\n",
       "      <td>two-sided</td>\n",
       "      <td>0.532</td>\n",
       "      <td>[0.12, 0.79]</td>\n",
       "      <td>0.283</td>\n",
       "      <td>0.198</td>\n",
       "      <td>0.593</td>\n",
       "      <td>0.015812</td>\n",
       "      <td>0.047435</td>\n",
       "      <td>holm</td>\n",
       "    </tr>\n",
       "    <tr>\n",
       "      <th>1</th>\n",
       "      <td>X</td>\n",
       "      <td>Z</td>\n",
       "      <td>spearman</td>\n",
       "      <td>two-sided</td>\n",
       "      <td>-0.081</td>\n",
       "      <td>[-0.51, 0.37]</td>\n",
       "      <td>0.007</td>\n",
       "      <td>-0.110</td>\n",
       "      <td>-0.081</td>\n",
       "      <td>0.733511</td>\n",
       "      <td>0.733511</td>\n",
       "      <td>holm</td>\n",
       "    </tr>\n",
       "    <tr>\n",
       "      <th>2</th>\n",
       "      <td>Y</td>\n",
       "      <td>Z</td>\n",
       "      <td>spearman</td>\n",
       "      <td>two-sided</td>\n",
       "      <td>-0.224</td>\n",
       "      <td>[-0.61, 0.24]</td>\n",
       "      <td>0.050</td>\n",
       "      <td>-0.062</td>\n",
       "      <td>-0.228</td>\n",
       "      <td>0.342286</td>\n",
       "      <td>0.684573</td>\n",
       "      <td>holm</td>\n",
       "    </tr>\n",
       "  </tbody>\n",
       "</table>\n",
       "</div>"
      ],
      "text/plain": [
       "   X  Y    method       tail      r          CI95%     r2  adj_r2      z  \\\n",
       "0  X  Y  spearman  two-sided  0.532   [0.12, 0.79]  0.283   0.198  0.593   \n",
       "1  X  Z  spearman  two-sided -0.081  [-0.51, 0.37]  0.007  -0.110 -0.081   \n",
       "2  Y  Z  spearman  two-sided -0.224  [-0.61, 0.24]  0.050  -0.062 -0.228   \n",
       "\n",
       "      p-unc    p-corr p-adjust  \n",
       "0  0.015812  0.047435     holm  \n",
       "1  0.733511  0.733511     holm  \n",
       "2  0.342286  0.684573     holm  "
      ]
     },
     "execution_count": 6,
     "metadata": {},
     "output_type": "execute_result"
    }
   ],
   "source": [
    "pairwise_corr(df, method='spearman', padjust=\"holm\")"
   ]
  }
 ],
 "metadata": {
  "kernelspec": {
   "display_name": "Python 3",
   "language": "python",
   "name": "python3"
  },
  "language_info": {
   "codemirror_mode": {
    "name": "ipython",
    "version": 3
   },
   "file_extension": ".py",
   "mimetype": "text/x-python",
   "name": "python",
   "nbconvert_exporter": "python",
   "pygments_lexer": "ipython3",
   "version": "3.6.5"
  }
 },
 "nbformat": 4,
 "nbformat_minor": 2
}
