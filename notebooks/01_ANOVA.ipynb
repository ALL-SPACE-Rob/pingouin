{
 "cells": [
  {
   "cell_type": "markdown",
   "metadata": {},
   "source": [
    "# ANOVA\n",
    "\n",
    "This notebook shows several examples of one-way and two-way ANOVA.\n",
    "\n",
    "## One-way ANOVA\n",
    "\n",
    "The one-way ANOVA tests the null hypothesis that two or more groups have the same population mean. In Pingouin, the one-way ANOVA is implemented in the `anova` function. The ANOVA test has several assumptions that must be satisfied to provide accurate results:\n",
    "\n",
    "- The samples must be independent (i.e. by opposition with repeated measurements in a single group, see `rm_anova`).\n",
    "- Each sample should be normally distributed.\n",
    "- The variance of the samples are all equal (= homoscedasticity).\n",
    "\n",
    "*Note: Assumptions #2 and #3 can be checked using the `test_normality` and `test_homoscedasticity` functions.*\n",
    "\n",
    "### Load data\n",
    "\n",
    "For this first example, we are going to load the McClave (1991) dataset which compares the pain threshold of subjects as a function of their hair color."
   ]
  },
  {
   "cell_type": "code",
   "execution_count": 1,
   "metadata": {},
   "outputs": [
    {
     "data": {
      "text/html": [
       "<div>\n",
       "<style scoped>\n",
       "    .dataframe tbody tr th:only-of-type {\n",
       "        vertical-align: middle;\n",
       "    }\n",
       "\n",
       "    .dataframe tbody tr th {\n",
       "        vertical-align: top;\n",
       "    }\n",
       "\n",
       "    .dataframe thead th {\n",
       "        text-align: right;\n",
       "    }\n",
       "</style>\n",
       "<table border=\"1\" class=\"dataframe\">\n",
       "  <thead>\n",
       "    <tr style=\"text-align: right;\">\n",
       "      <th></th>\n",
       "      <th>mean</th>\n",
       "      <th>std</th>\n",
       "      <th>count</th>\n",
       "    </tr>\n",
       "    <tr>\n",
       "      <th>Hair color</th>\n",
       "      <th></th>\n",
       "      <th></th>\n",
       "      <th></th>\n",
       "    </tr>\n",
       "  </thead>\n",
       "  <tbody>\n",
       "    <tr>\n",
       "      <th>Dark Blond</th>\n",
       "      <td>51.2</td>\n",
       "      <td>9.28</td>\n",
       "      <td>5</td>\n",
       "    </tr>\n",
       "    <tr>\n",
       "      <th>Dark Brunette</th>\n",
       "      <td>37.4</td>\n",
       "      <td>8.32</td>\n",
       "      <td>5</td>\n",
       "    </tr>\n",
       "    <tr>\n",
       "      <th>Light Blond</th>\n",
       "      <td>59.2</td>\n",
       "      <td>8.53</td>\n",
       "      <td>5</td>\n",
       "    </tr>\n",
       "    <tr>\n",
       "      <th>Light Brunette</th>\n",
       "      <td>42.5</td>\n",
       "      <td>5.45</td>\n",
       "      <td>4</td>\n",
       "    </tr>\n",
       "  </tbody>\n",
       "</table>\n",
       "</div>"
      ],
      "text/plain": [
       "                mean   std  count\n",
       "Hair color                       \n",
       "Dark Blond      51.2  9.28      5\n",
       "Dark Brunette   37.4  8.32      5\n",
       "Light Blond     59.2  8.53      5\n",
       "Light Brunette  42.5  5.45      4"
      ]
     },
     "execution_count": 1,
     "metadata": {},
     "output_type": "execute_result"
    }
   ],
   "source": [
    "import numpy as np\n",
    "import pandas as pd\n",
    "from pingouin.datasets import read_dataset\n",
    "\n",
    "df = read_dataset('mcclave1991')\n",
    "\n",
    "df.groupby('Hair color')['Pain threshold'].agg(['mean', 'std', 'count']).round(2)"
   ]
  },
  {
   "cell_type": "markdown",
   "metadata": {},
   "source": [
    "### Run the ANOVA\n",
    "\n",
    "The detailed ANOVA summary table includes the following columns:\n",
    "\n",
    "- SS : sums of squares\n",
    "- DF : degrees of freedom\n",
    "- MS : mean squares (= SS / DF)\n",
    "- F : F-value (test statistic)\n",
    "- p-unc : uncorrected p-values\n",
    "- np2 : partial eta-square effect size \\*\n",
    "\n",
    "\\* *In one-way ANOVA, partial eta-square is the same as eta-square and generalized eta-square.*\n",
    "\n",
    "In the example below, there is a main effect of group (F(3, 15) = 6.79, p = .004)), so we can reject the null hypothesis that the groups have equal means."
   ]
  },
  {
   "cell_type": "code",
   "execution_count": 2,
   "metadata": {},
   "outputs": [
    {
     "data": {
      "text/html": [
       "<div>\n",
       "<style scoped>\n",
       "    .dataframe tbody tr th:only-of-type {\n",
       "        vertical-align: middle;\n",
       "    }\n",
       "\n",
       "    .dataframe tbody tr th {\n",
       "        vertical-align: top;\n",
       "    }\n",
       "\n",
       "    .dataframe thead th {\n",
       "        text-align: right;\n",
       "    }\n",
       "</style>\n",
       "<table border=\"1\" class=\"dataframe\">\n",
       "  <thead>\n",
       "    <tr style=\"text-align: right;\">\n",
       "      <th></th>\n",
       "      <th>Source</th>\n",
       "      <th>SS</th>\n",
       "      <th>DF</th>\n",
       "      <th>MS</th>\n",
       "      <th>F</th>\n",
       "      <th>p-unc</th>\n",
       "      <th>np2</th>\n",
       "    </tr>\n",
       "  </thead>\n",
       "  <tbody>\n",
       "    <tr>\n",
       "      <th>0</th>\n",
       "      <td>Hair color</td>\n",
       "      <td>1360.726316</td>\n",
       "      <td>3</td>\n",
       "      <td>453.575439</td>\n",
       "      <td>6.791407</td>\n",
       "      <td>0.004114</td>\n",
       "      <td>0.575962</td>\n",
       "    </tr>\n",
       "    <tr>\n",
       "      <th>1</th>\n",
       "      <td>Within</td>\n",
       "      <td>1001.800000</td>\n",
       "      <td>15</td>\n",
       "      <td>66.786667</td>\n",
       "      <td>NaN</td>\n",
       "      <td>NaN</td>\n",
       "      <td>NaN</td>\n",
       "    </tr>\n",
       "  </tbody>\n",
       "</table>\n",
       "</div>"
      ],
      "text/plain": [
       "       Source           SS  DF          MS         F     p-unc       np2\n",
       "0  Hair color  1360.726316   3  453.575439  6.791407  0.004114  0.575962\n",
       "1      Within  1001.800000  15   66.786667       NaN       NaN       NaN"
      ]
     },
     "execution_count": 2,
     "metadata": {},
     "output_type": "execute_result"
    }
   ],
   "source": [
    "from pingouin import anova\n",
    "\n",
    "aov = anova(data=df, dv='Pain threshold', between='Hair color', detailed=True)\n",
    "aov"
   ]
  },
  {
   "cell_type": "markdown",
   "metadata": {},
   "source": [
    "### Tukey post-hocs\n",
    "\n",
    "Often, you will want to compute post-hoc tests to look at the pairwise differences between the groups. For one-way ANOVA, this can be achieved using the `pairwise_tukey` function."
   ]
  },
  {
   "cell_type": "code",
   "execution_count": 3,
   "metadata": {},
   "outputs": [
    {
     "data": {
      "text/html": [
       "<div>\n",
       "<style scoped>\n",
       "    .dataframe tbody tr th:only-of-type {\n",
       "        vertical-align: middle;\n",
       "    }\n",
       "\n",
       "    .dataframe tbody tr th {\n",
       "        vertical-align: top;\n",
       "    }\n",
       "\n",
       "    .dataframe thead th {\n",
       "        text-align: right;\n",
       "    }\n",
       "</style>\n",
       "<table border=\"1\" class=\"dataframe\">\n",
       "  <thead>\n",
       "    <tr style=\"text-align: right;\">\n",
       "      <th></th>\n",
       "      <th>A</th>\n",
       "      <th>B</th>\n",
       "      <th>mean(A)</th>\n",
       "      <th>mean(B)</th>\n",
       "      <th>diff</th>\n",
       "      <th>SE</th>\n",
       "      <th>tail</th>\n",
       "      <th>T-val</th>\n",
       "      <th>p-tukey</th>\n",
       "      <th>efsize</th>\n",
       "      <th>eftype</th>\n",
       "    </tr>\n",
       "  </thead>\n",
       "  <tbody>\n",
       "    <tr>\n",
       "      <th>0</th>\n",
       "      <td>Dark Blond</td>\n",
       "      <td>Dark Brunette</td>\n",
       "      <td>51.2</td>\n",
       "      <td>37.4</td>\n",
       "      <td>13.8</td>\n",
       "      <td>5.169</td>\n",
       "      <td>two-sided</td>\n",
       "      <td>2.670</td>\n",
       "      <td>0.074168</td>\n",
       "      <td>1.423</td>\n",
       "      <td>hedges</td>\n",
       "    </tr>\n",
       "    <tr>\n",
       "      <th>1</th>\n",
       "      <td>Dark Blond</td>\n",
       "      <td>Light Blond</td>\n",
       "      <td>51.2</td>\n",
       "      <td>59.2</td>\n",
       "      <td>-8.0</td>\n",
       "      <td>5.169</td>\n",
       "      <td>two-sided</td>\n",
       "      <td>-1.548</td>\n",
       "      <td>0.436903</td>\n",
       "      <td>-0.825</td>\n",
       "      <td>hedges</td>\n",
       "    </tr>\n",
       "    <tr>\n",
       "      <th>2</th>\n",
       "      <td>Dark Blond</td>\n",
       "      <td>Light Brunette</td>\n",
       "      <td>51.2</td>\n",
       "      <td>42.5</td>\n",
       "      <td>8.7</td>\n",
       "      <td>5.482</td>\n",
       "      <td>two-sided</td>\n",
       "      <td>1.587</td>\n",
       "      <td>0.416008</td>\n",
       "      <td>0.846</td>\n",
       "      <td>hedges</td>\n",
       "    </tr>\n",
       "    <tr>\n",
       "      <th>3</th>\n",
       "      <td>Dark Brunette</td>\n",
       "      <td>Light Blond</td>\n",
       "      <td>37.4</td>\n",
       "      <td>59.2</td>\n",
       "      <td>-21.8</td>\n",
       "      <td>5.169</td>\n",
       "      <td>two-sided</td>\n",
       "      <td>-4.218</td>\n",
       "      <td>0.003713</td>\n",
       "      <td>-2.248</td>\n",
       "      <td>hedges</td>\n",
       "    </tr>\n",
       "    <tr>\n",
       "      <th>4</th>\n",
       "      <td>Dark Brunette</td>\n",
       "      <td>Light Brunette</td>\n",
       "      <td>37.4</td>\n",
       "      <td>42.5</td>\n",
       "      <td>-5.1</td>\n",
       "      <td>5.482</td>\n",
       "      <td>two-sided</td>\n",
       "      <td>-0.930</td>\n",
       "      <td>0.769703</td>\n",
       "      <td>-0.496</td>\n",
       "      <td>hedges</td>\n",
       "    </tr>\n",
       "    <tr>\n",
       "      <th>5</th>\n",
       "      <td>Light Blond</td>\n",
       "      <td>Light Brunette</td>\n",
       "      <td>59.2</td>\n",
       "      <td>42.5</td>\n",
       "      <td>16.7</td>\n",
       "      <td>5.482</td>\n",
       "      <td>two-sided</td>\n",
       "      <td>3.046</td>\n",
       "      <td>0.036653</td>\n",
       "      <td>1.623</td>\n",
       "      <td>hedges</td>\n",
       "    </tr>\n",
       "  </tbody>\n",
       "</table>\n",
       "</div>"
      ],
      "text/plain": [
       "               A               B  mean(A)  mean(B)  diff     SE       tail  \\\n",
       "0     Dark Blond   Dark Brunette     51.2     37.4  13.8  5.169  two-sided   \n",
       "1     Dark Blond     Light Blond     51.2     59.2  -8.0  5.169  two-sided   \n",
       "2     Dark Blond  Light Brunette     51.2     42.5   8.7  5.482  two-sided   \n",
       "3  Dark Brunette     Light Blond     37.4     59.2 -21.8  5.169  two-sided   \n",
       "4  Dark Brunette  Light Brunette     37.4     42.5  -5.1  5.482  two-sided   \n",
       "5    Light Blond  Light Brunette     59.2     42.5  16.7  5.482  two-sided   \n",
       "\n",
       "   T-val   p-tukey  efsize  eftype  \n",
       "0  2.670  0.074168   1.423  hedges  \n",
       "1 -1.548  0.436903  -0.825  hedges  \n",
       "2  1.587  0.416008   0.846  hedges  \n",
       "3 -4.218  0.003713  -2.248  hedges  \n",
       "4 -0.930  0.769703  -0.496  hedges  \n",
       "5  3.046  0.036653   1.623  hedges  "
      ]
     },
     "execution_count": 3,
     "metadata": {},
     "output_type": "execute_result"
    }
   ],
   "source": [
    "from pingouin import pairwise_tukey\n",
    "\n",
    "pairwise_tukey(data=df, dv='Pain threshold', between='Hair color')"
   ]
  },
  {
   "cell_type": "markdown",
   "metadata": {},
   "source": [
    "### Power of the ANOVA\n",
    "In some cases, it might be useful to compute the power of the test, i.e. the probability that we correctly reject the null hypothesis when it is indeed false (with higher power indicating higher reliability). This can be calculated easily from the ANOVA summary using the `anova_power` function."
   ]
  },
  {
   "cell_type": "code",
   "execution_count": 4,
   "metadata": {},
   "outputs": [
    {
     "name": "stdout",
     "output_type": "stream",
     "text": [
      "0.973\n"
     ]
    }
   ],
   "source": [
    "from pingouin import anova_power\n",
    "\n",
    "achieved_power = anova_power(eta=aov.loc[0, 'np2'], ntot=df.shape[0], ngroups=df['Hair color'].unique().size)\n",
    "print(achieved_power)"
   ]
  },
  {
   "cell_type": "markdown",
   "metadata": {},
   "source": [
    "### Assumptions check\n",
    "\n",
    "Finally, to check that (1) each sample is normally distributed and (2) the variance of the samples are all equal, we can use the `test_normality` and `test_homoscedasticity` functions, respectively."
   ]
  },
  {
   "cell_type": "code",
   "execution_count": 5,
   "metadata": {},
   "outputs": [
    {
     "name": "stdout",
     "output_type": "stream",
     "text": [
      "(True, 0.983)\n",
      "(True, 0.664)\n",
      "(True, 0.598)\n",
      "(True, 0.324)\n"
     ]
    }
   ],
   "source": [
    "from pingouin import test_normality\n",
    "for group in df['Hair color'].unique():\n",
    "    print(test_normality(df[df['Hair color'] == group]['Pain threshold'].values))"
   ]
  },
  {
   "cell_type": "markdown",
   "metadata": {},
   "source": [
    "***"
   ]
  }
 ],
 "metadata": {
  "kernelspec": {
   "display_name": "Python 3",
   "language": "python",
   "name": "python3"
  },
  "language_info": {
   "codemirror_mode": {
    "name": "ipython",
    "version": 3
   },
   "file_extension": ".py",
   "mimetype": "text/x-python",
   "name": "python",
   "nbconvert_exporter": "python",
   "pygments_lexer": "ipython3",
   "version": "3.6.5"
  }
 },
 "nbformat": 4,
 "nbformat_minor": 2
}
