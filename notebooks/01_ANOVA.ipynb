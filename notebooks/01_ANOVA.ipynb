{
 "cells": [
  {
   "cell_type": "markdown",
   "metadata": {},
   "source": [
    "# ANOVA\n",
    "\n",
    "This notebook shows several examples of one-way and two-way ANOVA.\n",
    "\n",
    "***\n",
    "\n",
    "\n",
    "## One-way ANOVA\n",
    "\n",
    "The one-way ANOVA tests the null hypothesis that two or more groups have the same population mean. In Pingouin, the one-way ANOVA is implemented in the [anova](https://raphaelvallat.github.io/pingouin/build/html/generated/pingouin.anova.html#pingouin.anova) function. The ANOVA test has three main assumptions that must be satisfied to provide accurate results:\n",
    "\n",
    "1. The samples must be independent (i.e. by opposition with repeated measurements in a single group, in which case one should use repeated measures ANOVA [(rm_anova)](https://raphaelvallat.github.io/pingouin/build/html/generated/pingouin.rm_anova.html#pingouin.rm_anova).\n",
    "2. Each sample should be normally distributed.\n",
    "3. The variance of the samples are all equal (= homoscedasticity).\n",
    "\n",
    "*Note that assumptions #2 and #3 can be checked using the [test_normality](https://raphaelvallat.github.io/pingouin/build/html/generated/pingouin.test_normality.html#pingouin.test_normality) and [test_homoscedasticity](https://raphaelvallat.github.io/pingouin/build/html/generated/pingouin.test_homoscedasticity.html#pingouin.test_homoscedasticity) functions.*\n",
    "\n",
    "### Load data\n",
    "\n",
    "For this first example, we are going to load the McClave (1991) dataset which compares the pain threshold of subjects as a function of their hair color."
   ]
  },
  {
   "cell_type": "code",
   "execution_count": 1,
   "metadata": {},
   "outputs": [
    {
     "data": {
      "text/html": [
       "<div>\n",
       "<style scoped>\n",
       "    .dataframe tbody tr th:only-of-type {\n",
       "        vertical-align: middle;\n",
       "    }\n",
       "\n",
       "    .dataframe tbody tr th {\n",
       "        vertical-align: top;\n",
       "    }\n",
       "\n",
       "    .dataframe thead th {\n",
       "        text-align: right;\n",
       "    }\n",
       "</style>\n",
       "<table border=\"1\" class=\"dataframe\">\n",
       "  <thead>\n",
       "    <tr style=\"text-align: right;\">\n",
       "      <th></th>\n",
       "      <th>mean</th>\n",
       "      <th>std</th>\n",
       "      <th>count</th>\n",
       "    </tr>\n",
       "    <tr>\n",
       "      <th>Hair color</th>\n",
       "      <th></th>\n",
       "      <th></th>\n",
       "      <th></th>\n",
       "    </tr>\n",
       "  </thead>\n",
       "  <tbody>\n",
       "    <tr>\n",
       "      <th>Dark Blond</th>\n",
       "      <td>51.2</td>\n",
       "      <td>9.28</td>\n",
       "      <td>5</td>\n",
       "    </tr>\n",
       "    <tr>\n",
       "      <th>Dark Brunette</th>\n",
       "      <td>37.4</td>\n",
       "      <td>8.32</td>\n",
       "      <td>5</td>\n",
       "    </tr>\n",
       "    <tr>\n",
       "      <th>Light Blond</th>\n",
       "      <td>59.2</td>\n",
       "      <td>8.53</td>\n",
       "      <td>5</td>\n",
       "    </tr>\n",
       "    <tr>\n",
       "      <th>Light Brunette</th>\n",
       "      <td>42.5</td>\n",
       "      <td>5.45</td>\n",
       "      <td>4</td>\n",
       "    </tr>\n",
       "  </tbody>\n",
       "</table>\n",
       "</div>"
      ],
      "text/plain": [
       "                mean   std  count\n",
       "Hair color                       \n",
       "Dark Blond      51.2  9.28      5\n",
       "Dark Brunette   37.4  8.32      5\n",
       "Light Blond     59.2  8.53      5\n",
       "Light Brunette  42.5  5.45      4"
      ]
     },
     "execution_count": 1,
     "metadata": {},
     "output_type": "execute_result"
    }
   ],
   "source": [
    "import numpy as np\n",
    "import pandas as pd\n",
    "from pingouin.datasets import read_dataset\n",
    "\n",
    "df = read_dataset('mcclave1991')\n",
    "\n",
    "df.groupby('Hair color')['Pain threshold'].agg(['mean', 'std', 'count']).round(2)"
   ]
  },
  {
   "cell_type": "markdown",
   "metadata": {},
   "source": [
    "### Run the ANOVA\n",
    "\n",
    "\n",
    "To run a one-way ANOVA in pingouin, the following arguments MUST be specified:\n",
    "\n",
    "* data : the pandas DataFrame (in long-format)\n",
    "* dv : the dependant variable\n",
    "* between : the between-subject factor"
   ]
  },
  {
   "cell_type": "code",
   "execution_count": 2,
   "metadata": {},
   "outputs": [
    {
     "data": {
      "text/html": [
       "<div>\n",
       "<style scoped>\n",
       "    .dataframe tbody tr th:only-of-type {\n",
       "        vertical-align: middle;\n",
       "    }\n",
       "\n",
       "    .dataframe tbody tr th {\n",
       "        vertical-align: top;\n",
       "    }\n",
       "\n",
       "    .dataframe thead th {\n",
       "        text-align: right;\n",
       "    }\n",
       "</style>\n",
       "<table border=\"1\" class=\"dataframe\">\n",
       "  <thead>\n",
       "    <tr style=\"text-align: right;\">\n",
       "      <th></th>\n",
       "      <th>Source</th>\n",
       "      <th>SS</th>\n",
       "      <th>DF</th>\n",
       "      <th>MS</th>\n",
       "      <th>F</th>\n",
       "      <th>p-unc</th>\n",
       "      <th>np2</th>\n",
       "    </tr>\n",
       "  </thead>\n",
       "  <tbody>\n",
       "    <tr>\n",
       "      <th>0</th>\n",
       "      <td>Hair color</td>\n",
       "      <td>1360.726</td>\n",
       "      <td>3</td>\n",
       "      <td>453.575</td>\n",
       "      <td>6.791</td>\n",
       "      <td>0.00411423</td>\n",
       "      <td>0.576</td>\n",
       "    </tr>\n",
       "    <tr>\n",
       "      <th>1</th>\n",
       "      <td>Within</td>\n",
       "      <td>1001.800</td>\n",
       "      <td>15</td>\n",
       "      <td>66.787</td>\n",
       "      <td>-</td>\n",
       "      <td>-</td>\n",
       "      <td>-</td>\n",
       "    </tr>\n",
       "  </tbody>\n",
       "</table>\n",
       "</div>"
      ],
      "text/plain": [
       "       Source        SS  DF       MS      F       p-unc    np2\n",
       "0  Hair color  1360.726   3  453.575  6.791  0.00411423  0.576\n",
       "1      Within  1001.800  15   66.787      -           -      -"
      ]
     },
     "execution_count": 2,
     "metadata": {},
     "output_type": "execute_result"
    }
   ],
   "source": [
    "from pingouin import anova\n",
    "\n",
    "aov = anova(data=df, dv='Pain threshold', between='Hair color', detailed=True)\n",
    "aov"
   ]
  },
  {
   "cell_type": "markdown",
   "metadata": {},
   "source": [
    "The detailed ANOVA summary table includes the following columns:\n",
    "\n",
    "- SS : sums of squares\n",
    "- DF : degrees of freedom\n",
    "- MS : mean squares (= SS / DF)\n",
    "- F : F-value (test statistic)\n",
    "- p-unc : uncorrected p-values\n",
    "- np2 : partial eta-square effect size \\*\n",
    "\n",
    "\\* *In one-way ANOVA, partial eta-square is the same as eta-square and generalized eta-square.*\n",
    "\n",
    "In the example above, there is a main effect of group (F(3, 15) = 6.79, p = .004)), so we can reject the null hypothesis that the groups have equal means."
   ]
  },
  {
   "cell_type": "markdown",
   "metadata": {},
   "source": [
    "### Tukey post-hocs\n",
    "\n",
    "Often, you will want to compute post-hoc tests to look at the pairwise differences between the groups. For one-way ANOVA, this can be achieved using the [pairwise_tukey](https://raphaelvallat.github.io/pingouin/build/html/generated/pingouin.pairwise_tukey.html#pingouin.pairwise_tukey) function.\n",
    "\n",
    "As one can see from the post-hoc summary table below, the light blond group has a significantly higher pain threshold than the dark brunette (p=.0037) and light brunette (p=.0367) groups."
   ]
  },
  {
   "cell_type": "code",
   "execution_count": 3,
   "metadata": {},
   "outputs": [
    {
     "data": {
      "text/html": [
       "<div>\n",
       "<style scoped>\n",
       "    .dataframe tbody tr th:only-of-type {\n",
       "        vertical-align: middle;\n",
       "    }\n",
       "\n",
       "    .dataframe tbody tr th {\n",
       "        vertical-align: top;\n",
       "    }\n",
       "\n",
       "    .dataframe thead th {\n",
       "        text-align: right;\n",
       "    }\n",
       "</style>\n",
       "<table border=\"1\" class=\"dataframe\">\n",
       "  <thead>\n",
       "    <tr style=\"text-align: right;\">\n",
       "      <th></th>\n",
       "      <th>A</th>\n",
       "      <th>B</th>\n",
       "      <th>mean(A)</th>\n",
       "      <th>mean(B)</th>\n",
       "      <th>diff</th>\n",
       "      <th>SE</th>\n",
       "      <th>tail</th>\n",
       "      <th>T-val</th>\n",
       "      <th>p-tukey</th>\n",
       "      <th>efsize</th>\n",
       "      <th>eftype</th>\n",
       "    </tr>\n",
       "  </thead>\n",
       "  <tbody>\n",
       "    <tr>\n",
       "      <th>0</th>\n",
       "      <td>Dark Blond</td>\n",
       "      <td>Dark Brunette</td>\n",
       "      <td>51.2</td>\n",
       "      <td>37.4</td>\n",
       "      <td>13.8</td>\n",
       "      <td>5.169</td>\n",
       "      <td>two-sided</td>\n",
       "      <td>2.670</td>\n",
       "      <td>0.074169</td>\n",
       "      <td>1.525</td>\n",
       "      <td>hedges</td>\n",
       "    </tr>\n",
       "    <tr>\n",
       "      <th>1</th>\n",
       "      <td>Dark Blond</td>\n",
       "      <td>Light Blond</td>\n",
       "      <td>51.2</td>\n",
       "      <td>59.2</td>\n",
       "      <td>-8.0</td>\n",
       "      <td>5.169</td>\n",
       "      <td>two-sided</td>\n",
       "      <td>-1.548</td>\n",
       "      <td>0.436905</td>\n",
       "      <td>-0.884</td>\n",
       "      <td>hedges</td>\n",
       "    </tr>\n",
       "    <tr>\n",
       "      <th>2</th>\n",
       "      <td>Dark Blond</td>\n",
       "      <td>Light Brunette</td>\n",
       "      <td>51.2</td>\n",
       "      <td>42.5</td>\n",
       "      <td>8.7</td>\n",
       "      <td>5.482</td>\n",
       "      <td>two-sided</td>\n",
       "      <td>1.587</td>\n",
       "      <td>0.416010</td>\n",
       "      <td>0.946</td>\n",
       "      <td>hedges</td>\n",
       "    </tr>\n",
       "    <tr>\n",
       "      <th>3</th>\n",
       "      <td>Dark Brunette</td>\n",
       "      <td>Light Blond</td>\n",
       "      <td>37.4</td>\n",
       "      <td>59.2</td>\n",
       "      <td>-21.8</td>\n",
       "      <td>5.169</td>\n",
       "      <td>two-sided</td>\n",
       "      <td>-4.218</td>\n",
       "      <td>0.003713</td>\n",
       "      <td>-2.409</td>\n",
       "      <td>hedges</td>\n",
       "    </tr>\n",
       "    <tr>\n",
       "      <th>4</th>\n",
       "      <td>Dark Brunette</td>\n",
       "      <td>Light Brunette</td>\n",
       "      <td>37.4</td>\n",
       "      <td>42.5</td>\n",
       "      <td>-5.1</td>\n",
       "      <td>5.482</td>\n",
       "      <td>two-sided</td>\n",
       "      <td>-0.930</td>\n",
       "      <td>0.769704</td>\n",
       "      <td>-0.555</td>\n",
       "      <td>hedges</td>\n",
       "    </tr>\n",
       "    <tr>\n",
       "      <th>5</th>\n",
       "      <td>Light Blond</td>\n",
       "      <td>Light Brunette</td>\n",
       "      <td>59.2</td>\n",
       "      <td>42.5</td>\n",
       "      <td>16.7</td>\n",
       "      <td>5.482</td>\n",
       "      <td>two-sided</td>\n",
       "      <td>3.046</td>\n",
       "      <td>0.036653</td>\n",
       "      <td>1.816</td>\n",
       "      <td>hedges</td>\n",
       "    </tr>\n",
       "  </tbody>\n",
       "</table>\n",
       "</div>"
      ],
      "text/plain": [
       "               A               B  mean(A)  mean(B)  diff     SE       tail  \\\n",
       "0     Dark Blond   Dark Brunette     51.2     37.4  13.8  5.169  two-sided   \n",
       "1     Dark Blond     Light Blond     51.2     59.2  -8.0  5.169  two-sided   \n",
       "2     Dark Blond  Light Brunette     51.2     42.5   8.7  5.482  two-sided   \n",
       "3  Dark Brunette     Light Blond     37.4     59.2 -21.8  5.169  two-sided   \n",
       "4  Dark Brunette  Light Brunette     37.4     42.5  -5.1  5.482  two-sided   \n",
       "5    Light Blond  Light Brunette     59.2     42.5  16.7  5.482  two-sided   \n",
       "\n",
       "   T-val   p-tukey  efsize  eftype  \n",
       "0  2.670  0.074169   1.525  hedges  \n",
       "1 -1.548  0.436905  -0.884  hedges  \n",
       "2  1.587  0.416010   0.946  hedges  \n",
       "3 -4.218  0.003713  -2.409  hedges  \n",
       "4 -0.930  0.769704  -0.555  hedges  \n",
       "5  3.046  0.036653   1.816  hedges  "
      ]
     },
     "execution_count": 3,
     "metadata": {},
     "output_type": "execute_result"
    }
   ],
   "source": [
    "from pingouin import pairwise_tukey\n",
    "\n",
    "pairwise_tukey(data=df, dv='Pain threshold', between='Hair color')"
   ]
  },
  {
   "cell_type": "markdown",
   "metadata": {},
   "source": [
    "### Power of the ANOVA\n",
    "In some cases, it might be useful to compute the power of the test, i.e. the probability that we correctly reject the null hypothesis when it is indeed false (with higher power indicating higher reliability). This can be calculated easily from the ANOVA summary using the [anova_power](https://raphaelvallat.github.io/pingouin/build/html/generated/pingouin.anova_power.html#pingouin.anova_power) function."
   ]
  },
  {
   "cell_type": "code",
   "execution_count": 4,
   "metadata": {},
   "outputs": [
    {
     "name": "stdout",
     "output_type": "stream",
     "text": [
      "0.973\n"
     ]
    }
   ],
   "source": [
    "from pingouin import anova_power\n",
    "\n",
    "achieved_power = anova_power(eta=aov.loc[0, 'np2'], ntot=df.shape[0], ngroups=df['Hair color'].unique().size)\n",
    "print(achieved_power)"
   ]
  },
  {
   "cell_type": "markdown",
   "metadata": {},
   "source": [
    "### Assumptions check\n",
    "\n",
    "Finally, to check that (1) each sample is normally distributed and (2) the variance of the samples are all equal, we can use the [test_normality](https://raphaelvallat.github.io/pingouin/build/html/generated/pingouin.test_normality.html#pingouin.test_normality) and [test_homoscedasticity](https://raphaelvallat.github.io/pingouin/build/html/generated/pingouin.test_homoscedasticity.html#pingouin.test_homoscedasticity) functions, respectively. The first output value of these two functions is a boolean that indicates whether the assumption is met (True) or not (False). The second value is the corresponding p-value of the test."
   ]
  },
  {
   "cell_type": "code",
   "execution_count": 5,
   "metadata": {},
   "outputs": [
    {
     "name": "stdout",
     "output_type": "stream",
     "text": [
      "(True, 0.983)\n",
      "(True, 0.664)\n",
      "(True, 0.598)\n",
      "(True, 0.324)\n"
     ]
    }
   ],
   "source": [
    "from pingouin import test_normality\n",
    "for group in df['Hair color'].unique():\n",
    "    print(test_normality(df[df['Hair color'] == group]['Pain threshold'].values))"
   ]
  },
  {
   "cell_type": "code",
   "execution_count": 6,
   "metadata": {},
   "outputs": [
    {
     "data": {
      "text/plain": [
       "(True, 0.842)"
      ]
     },
     "execution_count": 6,
     "metadata": {},
     "output_type": "execute_result"
    }
   ],
   "source": [
    "from pingouin import test_homoscedasticity\n",
    "\n",
    "grp = df.groupby(\"Hair color\")[\"Pain threshold\"]\n",
    "\n",
    "test_homoscedasticity(grp.get_group(\"Dark Blond\"), \n",
    "                      grp.get_group(\"Light Blond\"), \n",
    "                      grp.get_group(\"Dark Brunette\"),\n",
    "                      grp.get_group(\"Light Brunette\"))"
   ]
  },
  {
   "cell_type": "markdown",
   "metadata": {},
   "source": [
    "***\n",
    "\n",
    "## One-way repeated measures ANOVA\n",
    "\n",
    "The one-way repeated measures ANOVA is the equivalent of the one-way ANOVA, but for related, not independent groups. It is sometimes called within-subjects ANOVA. \n",
    "\n",
    "In Pingouin, the one-way repeated measures ANOVA is implemented in the [rm_anova](https://raphaelvallat.github.io/pingouin/build/html/generated/pingouin.rm_anova.html#pingouin.rm_anova) function. The repeated measures ANOVA test has several assumptions that must be satisfied to provide accurate results:\n",
    "\n",
    "- Normality: for each level of the within-subjects factor, the dependent variable must have a normal distribution.\n",
    "- Sphericity: difference scores computed between two levels of a within-subjects factor must have the same variance for the comparison of any two levels. (This assumption only applies if there are more than 2 levels of the independent variable.)\n",
    "- Randomness: cases should be derived from a random sample, and scores from different participants should be independent of each other.\n",
    "\n",
    "### Load data\n",
    "\n",
    "For this first example, we are going to create a fake dataset comprising the memory scores (on a 1-to-5 scale) of 20 older adults acquired with a four-year interval. The objective of the study is to see how memory deteriorates with aging."
   ]
  },
  {
   "cell_type": "code",
   "execution_count": 7,
   "metadata": {},
   "outputs": [
    {
     "data": {
      "text/html": [
       "<div>\n",
       "<style scoped>\n",
       "    .dataframe tbody tr th:only-of-type {\n",
       "        vertical-align: middle;\n",
       "    }\n",
       "\n",
       "    .dataframe tbody tr th {\n",
       "        vertical-align: top;\n",
       "    }\n",
       "\n",
       "    .dataframe thead th {\n",
       "        text-align: right;\n",
       "    }\n",
       "</style>\n",
       "<table border=\"1\" class=\"dataframe\">\n",
       "  <thead>\n",
       "    <tr style=\"text-align: right;\">\n",
       "      <th></th>\n",
       "      <th>Memory</th>\n",
       "      <th>Year</th>\n",
       "      <th>Subject</th>\n",
       "    </tr>\n",
       "  </thead>\n",
       "  <tbody>\n",
       "    <tr>\n",
       "      <th>0</th>\n",
       "      <td>4.131496</td>\n",
       "      <td>2010</td>\n",
       "      <td>0</td>\n",
       "    </tr>\n",
       "    <tr>\n",
       "      <th>1</th>\n",
       "      <td>5.797876</td>\n",
       "      <td>2010</td>\n",
       "      <td>1</td>\n",
       "    </tr>\n",
       "    <tr>\n",
       "      <th>2</th>\n",
       "      <td>5.226383</td>\n",
       "      <td>2010</td>\n",
       "      <td>2</td>\n",
       "    </tr>\n",
       "    <tr>\n",
       "      <th>3</th>\n",
       "      <td>3.794964</td>\n",
       "      <td>2010</td>\n",
       "      <td>3</td>\n",
       "    </tr>\n",
       "    <tr>\n",
       "      <th>4</th>\n",
       "      <td>4.537120</td>\n",
       "      <td>2010</td>\n",
       "      <td>4</td>\n",
       "    </tr>\n",
       "  </tbody>\n",
       "</table>\n",
       "</div>"
      ],
      "text/plain": [
       "     Memory  Year  Subject\n",
       "0  4.131496  2010        0\n",
       "1  5.797876  2010        1\n",
       "2  5.226383  2010        2\n",
       "3  3.794964  2010        3\n",
       "4  4.537120  2010        4"
      ]
     },
     "execution_count": 7,
     "metadata": {},
     "output_type": "execute_result"
    }
   ],
   "source": [
    "# Ensure reproducibility of the results\n",
    "np.random.seed(123)\n",
    "\n",
    "# Create three normally-distributed vectors.\n",
    "n = 20\n",
    "perf2010 = np.random.normal(loc=5, scale=0.8, size=n)     # Mean = 5, standard deviation = 0.8, size = 20\n",
    "perf2014 = np.random.normal(loc=4.8, scale=0.8, size=n)   # Mean = 4.8, ...\n",
    "perf2018 = np.random.normal(loc=3, scale=0.8, size=n)     # Mean = 3, ...\n",
    "\n",
    "# Concatenate in a long-format pandas DataFrame\n",
    "df = pd.DataFrame({'Memory': np.r_[perf2010, perf2014, perf2018],\n",
    "                   'Year': np.repeat(['2010', '2014', '2018'], n),\n",
    "                   'Subject': np.tile(np.arange(n), 3)})\n",
    "df.head()"
   ]
  },
  {
   "cell_type": "markdown",
   "metadata": {},
   "source": [
    "Let's plot the mean and standard deviation using the seaborn package"
   ]
  },
  {
   "cell_type": "code",
   "execution_count": 8,
   "metadata": {},
   "outputs": [
    {
     "data": {
      "image/png": "[encoded data removed]",
      "text/plain": [
       "<Figure size 432x288 with 1 Axes>"
      ]
     },
     "metadata": {},
     "output_type": "display_data"
    }
   ],
   "source": [
    "sns.set(context='talk')\n",
    "sns.pointplot(data=df, x='Year', y='Memory', capsize=.1, ci='sd')\n",
    "plt.ylim(1, 7)\n",
    "_ = plt.title('Memory scores over time')"
   ]
  },
  {
   "cell_type": "markdown",
   "metadata": {},
   "source": [
    "### Run the ANOVA\n",
    "\n",
    "To run a repeated-measures ANOVA in pingouin, the following arguments MUST be specified:\n",
    "\n",
    "- data : the pandas DataFrame (in long-format)\n",
    "- dv : the dependant variable\n",
    "- within : the within-subject (repeated measures) factor\n",
    "- subject : the subject identifier\n",
    "\n",
    "In the example below, we are going to test if the means of the memory scores have changed across the three time points:"
   ]
  },
  {
   "cell_type": "code",
   "execution_count": 9,
   "metadata": {},
   "outputs": [
    {
     "data": {
      "text/html": [
       "<div>\n",
       "<style scoped>\n",
       "    .dataframe tbody tr th:only-of-type {\n",
       "        vertical-align: middle;\n",
       "    }\n",
       "\n",
       "    .dataframe tbody tr th {\n",
       "        vertical-align: top;\n",
       "    }\n",
       "\n",
       "    .dataframe thead th {\n",
       "        text-align: right;\n",
       "    }\n",
       "</style>\n",
       "<table border=\"1\" class=\"dataframe\">\n",
       "  <thead>\n",
       "    <tr style=\"text-align: right;\">\n",
       "      <th></th>\n",
       "      <th>Source</th>\n",
       "      <th>ddof1</th>\n",
       "      <th>ddof2</th>\n",
       "      <th>F</th>\n",
       "      <th>p-unc</th>\n",
       "      <th>np2</th>\n",
       "      <th>eps</th>\n",
       "    </tr>\n",
       "  </thead>\n",
       "  <tbody>\n",
       "    <tr>\n",
       "      <th>0</th>\n",
       "      <td>Year</td>\n",
       "      <td>2</td>\n",
       "      <td>38</td>\n",
       "      <td>17.365</td>\n",
       "      <td>0.000004</td>\n",
       "      <td>0.478</td>\n",
       "      <td>0.988</td>\n",
       "    </tr>\n",
       "  </tbody>\n",
       "</table>\n",
       "</div>"
      ],
      "text/plain": [
       "  Source  ddof1  ddof2       F     p-unc    np2    eps\n",
       "0   Year      2     38  17.365  0.000004  0.478  0.988"
      ]
     },
     "execution_count": 9,
     "metadata": {},
     "output_type": "execute_result"
    }
   ],
   "source": [
    "from pingouin import rm_anova\n",
    "rm_anova(data=df, dv='Memory', within='Year', subject='Subject')"
   ]
  },
  {
   "cell_type": "markdown",
   "metadata": {},
   "source": [
    "From the example above, it is clear that the means of the three time points are significantly different (F(2, 38)=23.9, p=1.89e-07). We can now further test the pairwise differences between each measurements using the [pairwise_ttests](https://raphaelvallat.github.io/pingouin/build/html/generated/pingouin.pairwise_ttests.html#pingouin.pairwise_ttests) function:"
   ]
  },
  {
   "cell_type": "code",
   "execution_count": 10,
   "metadata": {},
   "outputs": [
    {
     "data": {
      "text/html": [
       "<div>\n",
       "<style scoped>\n",
       "    .dataframe tbody tr th:only-of-type {\n",
       "        vertical-align: middle;\n",
       "    }\n",
       "\n",
       "    .dataframe tbody tr th {\n",
       "        vertical-align: top;\n",
       "    }\n",
       "\n",
       "    .dataframe thead th {\n",
       "        text-align: right;\n",
       "    }\n",
       "</style>\n",
       "<table border=\"1\" class=\"dataframe\">\n",
       "  <thead>\n",
       "    <tr style=\"text-align: right;\">\n",
       "      <th></th>\n",
       "      <th>Type</th>\n",
       "      <th>A</th>\n",
       "      <th>B</th>\n",
       "      <th>mean(A)</th>\n",
       "      <th>std(A)</th>\n",
       "      <th>mean(B)</th>\n",
       "      <th>std(B)</th>\n",
       "      <th>Paired</th>\n",
       "      <th>T-val</th>\n",
       "      <th>tail</th>\n",
       "      <th>p-unc</th>\n",
       "      <th>p-corr</th>\n",
       "      <th>p-adjust</th>\n",
       "      <th>BF10</th>\n",
       "      <th>efsize</th>\n",
       "      <th>eftype</th>\n",
       "    </tr>\n",
       "  </thead>\n",
       "  <tbody>\n",
       "    <tr>\n",
       "      <th>0</th>\n",
       "      <td>within</td>\n",
       "      <td>2010</td>\n",
       "      <td>2014</td>\n",
       "      <td>5.092</td>\n",
       "      <td>1.006</td>\n",
       "      <td>4.575</td>\n",
       "      <td>0.876</td>\n",
       "      <td>True</td>\n",
       "      <td>1.629</td>\n",
       "      <td>two-sided</td>\n",
       "      <td>0.119680</td>\n",
       "      <td>0.359040</td>\n",
       "      <td>bonf</td>\n",
       "      <td>0.717</td>\n",
       "      <td>0.551883</td>\n",
       "      <td>hedges</td>\n",
       "    </tr>\n",
       "    <tr>\n",
       "      <th>1</th>\n",
       "      <td>within</td>\n",
       "      <td>2010</td>\n",
       "      <td>2018</td>\n",
       "      <td>5.092</td>\n",
       "      <td>1.006</td>\n",
       "      <td>3.357</td>\n",
       "      <td>0.953</td>\n",
       "      <td>True</td>\n",
       "      <td>5.762</td>\n",
       "      <td>two-sided</td>\n",
       "      <td>0.000015</td>\n",
       "      <td>0.000045</td>\n",
       "      <td>bonf</td>\n",
       "      <td>1532.361</td>\n",
       "      <td>1.781278</td>\n",
       "      <td>hedges</td>\n",
       "    </tr>\n",
       "    <tr>\n",
       "      <th>2</th>\n",
       "      <td>within</td>\n",
       "      <td>2014</td>\n",
       "      <td>2018</td>\n",
       "      <td>4.575</td>\n",
       "      <td>0.876</td>\n",
       "      <td>3.357</td>\n",
       "      <td>0.953</td>\n",
       "      <td>True</td>\n",
       "      <td>4.228</td>\n",
       "      <td>two-sided</td>\n",
       "      <td>0.000455</td>\n",
       "      <td>0.001365</td>\n",
       "      <td>bonf</td>\n",
       "      <td>72.806</td>\n",
       "      <td>1.339687</td>\n",
       "      <td>hedges</td>\n",
       "    </tr>\n",
       "  </tbody>\n",
       "</table>\n",
       "</div>"
      ],
      "text/plain": [
       "     Type     A     B  mean(A)  std(A)  mean(B)  std(B)  Paired  T-val  \\\n",
       "0  within  2010  2014    5.092   1.006    4.575   0.876    True  1.629   \n",
       "1  within  2010  2018    5.092   1.006    3.357   0.953    True  5.762   \n",
       "2  within  2014  2018    4.575   0.876    3.357   0.953    True  4.228   \n",
       "\n",
       "        tail     p-unc    p-corr p-adjust      BF10    efsize  eftype  \n",
       "0  two-sided  0.119680  0.359040     bonf     0.717  0.551883  hedges  \n",
       "1  two-sided  0.000015  0.000045     bonf  1532.361  1.781278  hedges  \n",
       "2  two-sided  0.000455  0.001365     bonf    72.806  1.339687  hedges  "
      ]
     },
     "execution_count": 10,
     "metadata": {},
     "output_type": "execute_result"
    }
   ],
   "source": [
    "from pingouin import pairwise_ttests\n",
    "\n",
    "# Bonferroni-corrected pairwise T-tests\n",
    "pairwise_ttests(data=df, dv='Memory', within='Year', subject='Subject', return_desc=True, padjust='bonf')"
   ]
  },
  {
   "cell_type": "markdown",
   "metadata": {},
   "source": [
    "#### A note on sphericity\n",
    "\n",
    "The repeated measures ANOVA table is very similar to the one-way ANOVA table, with an additional `eps` column. This refers to the epsilon statistic, which indicates the degree to which sphericity is present or not. An epsilon of 1 means that the condition of sphericity is exactly met. The further epsilon decreases below 1, the greater the violation of sphericity. In the example above, the condition of sphericity is almost exactly met. \n",
    "\n",
    "Another way to understand sphericity is to look at the covariance matrix of our data. If the variances of each measurements (i.e. elements on the diagonal of the covariance matrix) are roughly equal AND the covariances between measurements (i.e the off-diagonal elements) are also roughly equal, then we can be pretty confident that the assumption of sphericity is met (for more details on this, see [here](http://homepages.gold.ac.uk/aphome/spheric.html)).\n",
    "\n",
    "To compute the covariance matrix, we first need to pivot our data from long-format to repeated measures format, i.e. one column per each repeated measurements."
   ]
  },
  {
   "cell_type": "code",
   "execution_count": 11,
   "metadata": {},
   "outputs": [
    {
     "data": {
      "text/html": [
       "<div>\n",
       "<style scoped>\n",
       "    .dataframe tbody tr th:only-of-type {\n",
       "        vertical-align: middle;\n",
       "    }\n",
       "\n",
       "    .dataframe tbody tr th {\n",
       "        vertical-align: top;\n",
       "    }\n",
       "\n",
       "    .dataframe thead th {\n",
       "        text-align: right;\n",
       "    }\n",
       "</style>\n",
       "<table border=\"1\" class=\"dataframe\">\n",
       "  <thead>\n",
       "    <tr style=\"text-align: right;\">\n",
       "      <th>Year</th>\n",
       "      <th>2010</th>\n",
       "      <th>2014</th>\n",
       "      <th>2018</th>\n",
       "    </tr>\n",
       "    <tr>\n",
       "      <th>Subject</th>\n",
       "      <th></th>\n",
       "      <th></th>\n",
       "      <th></th>\n",
       "    </tr>\n",
       "  </thead>\n",
       "  <tbody>\n",
       "    <tr>\n",
       "      <th>0</th>\n",
       "      <td>4.131</td>\n",
       "      <td>5.390</td>\n",
       "      <td>2.356</td>\n",
       "    </tr>\n",
       "    <tr>\n",
       "      <th>1</th>\n",
       "      <td>5.798</td>\n",
       "      <td>5.993</td>\n",
       "      <td>1.618</td>\n",
       "    </tr>\n",
       "    <tr>\n",
       "      <th>2</th>\n",
       "      <td>5.226</td>\n",
       "      <td>4.051</td>\n",
       "      <td>2.687</td>\n",
       "    </tr>\n",
       "    <tr>\n",
       "      <th>3</th>\n",
       "      <td>3.795</td>\n",
       "      <td>5.741</td>\n",
       "      <td>3.459</td>\n",
       "    </tr>\n",
       "    <tr>\n",
       "      <th>4</th>\n",
       "      <td>4.537</td>\n",
       "      <td>3.797</td>\n",
       "      <td>3.271</td>\n",
       "    </tr>\n",
       "  </tbody>\n",
       "</table>\n",
       "</div>"
      ],
      "text/plain": [
       "Year      2010   2014   2018\n",
       "Subject                     \n",
       "0        4.131  5.390  2.356\n",
       "1        5.798  5.993  1.618\n",
       "2        5.226  4.051  2.687\n",
       "3        3.795  5.741  3.459\n",
       "4        4.537  3.797  3.271"
      ]
     },
     "execution_count": 11,
     "metadata": {},
     "output_type": "execute_result"
    }
   ],
   "source": [
    "# Pivot the data\n",
    "pivot = df.pivot(index='Subject', columns='Year', values='Memory')\n",
    "pivot.head().round(3)"
   ]
  },
  {
   "cell_type": "code",
   "execution_count": 12,
   "metadata": {},
   "outputs": [
    {
     "data": {
      "text/plain": [
       "Text(0.5,1,'Variance-Covariance matrix')"
      ]
     },
     "execution_count": 12,
     "metadata": {},
     "output_type": "execute_result"
    },
    {
     "data": {
      "image/png": "[encoded data removed]",
      "text/plain": [
       "<Figure size 432x288 with 2 Axes>"
      ]
     },
     "metadata": {},
     "output_type": "display_data"
    }
   ],
   "source": [
    "# Plot the variance-covariance matrix\n",
    "ax = sns.heatmap(pivot.cov(), annot=True, fmt='.2f', linewidths=1)\n",
    "plt.title('Variance-Covariance matrix')"
   ]
  },
  {
   "cell_type": "markdown",
   "metadata": {},
   "source": [
    "#### What if sphericity is not met?\n",
    "\n",
    "When you are doing a repeated measures ANOVA, Pingouin automatically tests if the sphericity assumption is met using the [test_sphericity](https://raphaelvallat.github.io/pingouin/build/html/generated/pingouin.test_sphericity.html#pingouin.test_sphericity) function, which is based on the [Mauchly test](https://en.wikipedia.org/wiki/Mauchly%27s_sphericity_test).\n",
    "\n",
    "If the sphericity assumption is not met, Pingouin returns the Mauchly test chi-square statistic and p-values, as well as the Greenhouse-Geisser corrected p-value of the ANOVA (The Greenhouse-Geisser correction uses epsilon to correct the degrees of freedom of the ANOVA).\n",
    "\n",
    "You can force the correction using `correction=True`:"
   ]
  },
  {
   "cell_type": "code",
   "execution_count": 13,
   "metadata": {},
   "outputs": [
    {
     "data": {
      "text/html": [
       "<div>\n",
       "<style scoped>\n",
       "    .dataframe tbody tr th:only-of-type {\n",
       "        vertical-align: middle;\n",
       "    }\n",
       "\n",
       "    .dataframe tbody tr th {\n",
       "        vertical-align: top;\n",
       "    }\n",
       "\n",
       "    .dataframe thead th {\n",
       "        text-align: right;\n",
       "    }\n",
       "</style>\n",
       "<table border=\"1\" class=\"dataframe\">\n",
       "  <thead>\n",
       "    <tr style=\"text-align: right;\">\n",
       "      <th></th>\n",
       "      <th>Source</th>\n",
       "      <th>ddof1</th>\n",
       "      <th>ddof2</th>\n",
       "      <th>F</th>\n",
       "      <th>p-unc</th>\n",
       "      <th>p-GG-corr</th>\n",
       "      <th>np2</th>\n",
       "      <th>eps</th>\n",
       "      <th>sphericity</th>\n",
       "      <th>W-spher</th>\n",
       "      <th>p-spher</th>\n",
       "    </tr>\n",
       "  </thead>\n",
       "  <tbody>\n",
       "    <tr>\n",
       "      <th>0</th>\n",
       "      <td>Year</td>\n",
       "      <td>2</td>\n",
       "      <td>38</td>\n",
       "      <td>17.365</td>\n",
       "      <td>0.000004</td>\n",
       "      <td>0.000005</td>\n",
       "      <td>0.478</td>\n",
       "      <td>0.988</td>\n",
       "      <td>True</td>\n",
       "      <td>0.988</td>\n",
       "      <td>0.895132</td>\n",
       "    </tr>\n",
       "  </tbody>\n",
       "</table>\n",
       "</div>"
      ],
      "text/plain": [
       "  Source  ddof1  ddof2       F     p-unc  p-GG-corr    np2    eps  sphericity  \\\n",
       "0   Year      2     38  17.365  0.000004   0.000005  0.478  0.988        True   \n",
       "\n",
       "   W-spher   p-spher  \n",
       "0    0.988  0.895132  "
      ]
     },
     "execution_count": 13,
     "metadata": {},
     "output_type": "execute_result"
    }
   ],
   "source": [
    "rm_anova(data=df, dv='Memory', within='Year', subject='Subject', correction=True)"
   ]
  },
  {
   "cell_type": "markdown",
   "metadata": {},
   "source": [
    "***\n",
    "\n",
    "## Mixed ANOVA\n",
    "\n",
    "In some cases, you might want to take the interation between a within-subject factor (e.g. time) and a between-subject factor (e.g. Group). This is done using a mixed two-way ANOVA.\n",
    "\n",
    "We are first going to add a group factor to our previously created memory dataset."
   ]
  },
  {
   "cell_type": "code",
   "execution_count": 14,
   "metadata": {},
   "outputs": [
    {
     "data": {
      "text/html": [
       "<div>\n",
       "<style scoped>\n",
       "    .dataframe tbody tr th:only-of-type {\n",
       "        vertical-align: middle;\n",
       "    }\n",
       "\n",
       "    .dataframe tbody tr th {\n",
       "        vertical-align: top;\n",
       "    }\n",
       "\n",
       "    .dataframe thead th {\n",
       "        text-align: right;\n",
       "    }\n",
       "</style>\n",
       "<table border=\"1\" class=\"dataframe\">\n",
       "  <thead>\n",
       "    <tr style=\"text-align: right;\">\n",
       "      <th></th>\n",
       "      <th>Memory</th>\n",
       "      <th>Year</th>\n",
       "      <th>Subject</th>\n",
       "      <th>Sex</th>\n",
       "    </tr>\n",
       "  </thead>\n",
       "  <tbody>\n",
       "    <tr>\n",
       "      <th>0</th>\n",
       "      <td>4.131496</td>\n",
       "      <td>2010</td>\n",
       "      <td>0</td>\n",
       "      <td>Men</td>\n",
       "    </tr>\n",
       "    <tr>\n",
       "      <th>1</th>\n",
       "      <td>5.797876</td>\n",
       "      <td>2010</td>\n",
       "      <td>1</td>\n",
       "      <td>Men</td>\n",
       "    </tr>\n",
       "    <tr>\n",
       "      <th>2</th>\n",
       "      <td>5.226383</td>\n",
       "      <td>2010</td>\n",
       "      <td>2</td>\n",
       "      <td>Men</td>\n",
       "    </tr>\n",
       "    <tr>\n",
       "      <th>3</th>\n",
       "      <td>3.794964</td>\n",
       "      <td>2010</td>\n",
       "      <td>3</td>\n",
       "      <td>Men</td>\n",
       "    </tr>\n",
       "    <tr>\n",
       "      <th>4</th>\n",
       "      <td>4.537120</td>\n",
       "      <td>2010</td>\n",
       "      <td>4</td>\n",
       "      <td>Men</td>\n",
       "    </tr>\n",
       "  </tbody>\n",
       "</table>\n",
       "</div>"
      ],
      "text/plain": [
       "     Memory  Year  Subject  Sex\n",
       "0  4.131496  2010        0  Men\n",
       "1  5.797876  2010        1  Men\n",
       "2  5.226383  2010        2  Men\n",
       "3  3.794964  2010        3  Men\n",
       "4  4.537120  2010        4  Men"
      ]
     },
     "execution_count": 14,
     "metadata": {},
     "output_type": "execute_result"
    }
   ],
   "source": [
    "df['Sex'] = np.tile(np.repeat(['Men', 'Women'], 10), 3)\n",
    "df.head()"
   ]
  },
  {
   "cell_type": "code",
   "execution_count": 15,
   "metadata": {},
   "outputs": [
    {
     "data": {
      "image/png": "[encoded data removed]",
      "text/plain": [
       "<Figure size 432x288 with 1 Axes>"
      ]
     },
     "metadata": {},
     "output_type": "display_data"
    }
   ],
   "source": [
    "sns.pointplot(data=df, x='Year', y='Memory', hue='Sex', dodge=True, capsize=.1, ci='sd')\n",
    "plt.ylim(1, 7)\n",
    "_ = plt.title('Memory scores over time')"
   ]
  },
  {
   "cell_type": "code",
   "execution_count": 16,
   "metadata": {},
   "outputs": [
    {
     "data": {
      "text/html": [
       "<div>\n",
       "<style scoped>\n",
       "    .dataframe tbody tr th:only-of-type {\n",
       "        vertical-align: middle;\n",
       "    }\n",
       "\n",
       "    .dataframe tbody tr th {\n",
       "        vertical-align: top;\n",
       "    }\n",
       "\n",
       "    .dataframe thead th {\n",
       "        text-align: right;\n",
       "    }\n",
       "</style>\n",
       "<table border=\"1\" class=\"dataframe\">\n",
       "  <thead>\n",
       "    <tr style=\"text-align: right;\">\n",
       "      <th></th>\n",
       "      <th>Source</th>\n",
       "      <th>SS</th>\n",
       "      <th>DF1</th>\n",
       "      <th>DF2</th>\n",
       "      <th>MS</th>\n",
       "      <th>F</th>\n",
       "      <th>p-unc</th>\n",
       "      <th>np2</th>\n",
       "      <th>eps</th>\n",
       "    </tr>\n",
       "  </thead>\n",
       "  <tbody>\n",
       "    <tr>\n",
       "      <th>0</th>\n",
       "      <td>Sex</td>\n",
       "      <td>0.253</td>\n",
       "      <td>1</td>\n",
       "      <td>18</td>\n",
       "      <td>0.253</td>\n",
       "      <td>0.283</td>\n",
       "      <td>0.601149</td>\n",
       "      <td>0.015</td>\n",
       "      <td>-</td>\n",
       "    </tr>\n",
       "    <tr>\n",
       "      <th>1</th>\n",
       "      <td>Year</td>\n",
       "      <td>31.733</td>\n",
       "      <td>2</td>\n",
       "      <td>36</td>\n",
       "      <td>15.866</td>\n",
       "      <td>17.513</td>\n",
       "      <td>0.000005</td>\n",
       "      <td>0.493</td>\n",
       "      <td>0.988</td>\n",
       "    </tr>\n",
       "    <tr>\n",
       "      <th>2</th>\n",
       "      <td>Interaction</td>\n",
       "      <td>2.106</td>\n",
       "      <td>2</td>\n",
       "      <td>36</td>\n",
       "      <td>1.053</td>\n",
       "      <td>1.162</td>\n",
       "      <td>0.324213</td>\n",
       "      <td>0.061</td>\n",
       "      <td>-</td>\n",
       "    </tr>\n",
       "  </tbody>\n",
       "</table>\n",
       "</div>"
      ],
      "text/plain": [
       "        Source      SS  DF1  DF2      MS       F     p-unc    np2    eps\n",
       "0          Sex   0.253    1   18   0.253   0.283  0.601149  0.015      -\n",
       "1         Year  31.733    2   36  15.866  17.513  0.000005  0.493  0.988\n",
       "2  Interaction   2.106    2   36   1.053   1.162  0.324213  0.061      -"
      ]
     },
     "execution_count": 16,
     "metadata": {},
     "output_type": "execute_result"
    }
   ],
   "source": [
    "from pingouin import mixed_anova\n",
    "\n",
    "mixed_anova(data=df, dv='Memory', between='Sex', within='Year', subject='Subject')"
   ]
  },
  {
   "cell_type": "code",
   "execution_count": 17,
   "metadata": {},
   "outputs": [
    {
     "data": {
      "text/html": [
       "<div>\n",
       "<style scoped>\n",
       "    .dataframe tbody tr th:only-of-type {\n",
       "        vertical-align: middle;\n",
       "    }\n",
       "\n",
       "    .dataframe tbody tr th {\n",
       "        vertical-align: top;\n",
       "    }\n",
       "\n",
       "    .dataframe thead th {\n",
       "        text-align: right;\n",
       "    }\n",
       "</style>\n",
       "<table border=\"1\" class=\"dataframe\">\n",
       "  <thead>\n",
       "    <tr style=\"text-align: right;\">\n",
       "      <th></th>\n",
       "      <th>Type</th>\n",
       "      <th>Time</th>\n",
       "      <th>A</th>\n",
       "      <th>B</th>\n",
       "      <th>Paired</th>\n",
       "      <th>T-val</th>\n",
       "      <th>tail</th>\n",
       "      <th>p-unc</th>\n",
       "      <th>BF10</th>\n",
       "      <th>efsize</th>\n",
       "      <th>eftype</th>\n",
       "    </tr>\n",
       "  </thead>\n",
       "  <tbody>\n",
       "    <tr>\n",
       "      <th>0</th>\n",
       "      <td>interaction</td>\n",
       "      <td>2010</td>\n",
       "      <td>Men</td>\n",
       "      <td>Women</td>\n",
       "      <td>False</td>\n",
       "      <td>-1.399</td>\n",
       "      <td>two-sided</td>\n",
       "      <td>0.178666</td>\n",
       "      <td>0.779</td>\n",
       "      <td>-0.599422</td>\n",
       "      <td>hedges</td>\n",
       "    </tr>\n",
       "    <tr>\n",
       "      <th>1</th>\n",
       "      <td>interaction</td>\n",
       "      <td>2014</td>\n",
       "      <td>Men</td>\n",
       "      <td>Women</td>\n",
       "      <td>False</td>\n",
       "      <td>0.753</td>\n",
       "      <td>two-sided</td>\n",
       "      <td>0.461349</td>\n",
       "      <td>0.485</td>\n",
       "      <td>0.322404</td>\n",
       "      <td>hedges</td>\n",
       "    </tr>\n",
       "    <tr>\n",
       "      <th>2</th>\n",
       "      <td>interaction</td>\n",
       "      <td>2018</td>\n",
       "      <td>Men</td>\n",
       "      <td>Women</td>\n",
       "      <td>False</td>\n",
       "      <td>-0.169</td>\n",
       "      <td>two-sided</td>\n",
       "      <td>0.867722</td>\n",
       "      <td>0.401</td>\n",
       "      <td>-0.072363</td>\n",
       "      <td>hedges</td>\n",
       "    </tr>\n",
       "  </tbody>\n",
       "</table>\n",
       "</div>"
      ],
      "text/plain": [
       "          Type  Time    A      B  Paired  T-val       tail     p-unc   BF10  \\\n",
       "0  interaction  2010  Men  Women   False -1.399  two-sided  0.178666  0.779   \n",
       "1  interaction  2014  Men  Women   False  0.753  two-sided  0.461349  0.485   \n",
       "2  interaction  2018  Men  Women   False -0.169  two-sided  0.867722  0.401   \n",
       "\n",
       "     efsize  eftype  \n",
       "0 -0.599422  hedges  \n",
       "1  0.322404  hedges  \n",
       "2 -0.072363  hedges  "
      ]
     },
     "execution_count": 17,
     "metadata": {},
     "output_type": "execute_result"
    }
   ],
   "source": [
    "pairwise_ttests(data=df, dv='Memory', between='Sex', within='Year', subject='Subject', effects='interaction')"
   ]
  }
 ],
 "metadata": {
  "kernelspec": {
   "display_name": "Python 3",
   "language": "python",
   "name": "python3"
  },
  "language_info": {
   "codemirror_mode": {
    "name": "ipython",
    "version": 3
   },
   "file_extension": ".py",
   "mimetype": "text/x-python",
   "name": "python",
   "nbconvert_exporter": "python",
   "pygments_lexer": "ipython3",
   "version": "3.6.5"
  }
 },
 "nbformat": 4,
 "nbformat_minor": 2
}
